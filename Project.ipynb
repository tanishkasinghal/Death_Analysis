{
 "cells": [
  {
   "cell_type": "code",
   "execution_count": 55,
   "metadata": {},
   "outputs": [],
   "source": [
    "import findspark\n",
    "findspark.init('/usr/local/spark')\n",
    "from pyspark.sql import SparkSession\n",
    "spark = SparkSession.builder.appName('proj').getOrCreate()"
   ]
  },
  {
   "cell_type": "code",
   "execution_count": 56,
   "metadata": {},
   "outputs": [],
   "source": [
    "import seaborn as sns\n",
    "import matplotlib.pyplot as plt"
   ]
  },
  {
   "cell_type": "code",
   "execution_count": 64,
   "metadata": {},
   "outputs": [],
   "source": [
    "data = spark.read.format('csv').load('Filtered_data.csv',header=True,inferSchema=True)"
   ]
  },
  {
   "cell_type": "code",
   "execution_count": 78,
   "metadata": {},
   "outputs": [
    {
     "data": {
      "text/plain": [
       "DataFrame[_c0: int, state: string, district: string, deceased_sex: string, treatment_source: string, month_of_death: int, year_of_death: int, death_symptoms: string, is_death_associated_with_preg: string, marital_status: string, highest_qualification: string, drinking_water_source: string, toilet_used: string]"
      ]
     },
     "execution_count": 78,
     "metadata": {},
     "output_type": "execute_result"
    }
   ],
   "source": [
    "data.na.drop(how='any')"
   ]
  },
  {
   "cell_type": "code",
   "execution_count": 80,
   "metadata": {},
   "outputs": [
    {
     "data": {
      "text/plain": [
       "13"
      ]
     },
     "execution_count": 80,
     "metadata": {},
     "output_type": "execute_result"
    }
   ],
   "source": [
    "len(df.count())"
   ]
  },
  {
   "cell_type": "code",
   "execution_count": 77,
   "metadata": {},
   "outputs": [
    {
     "data": {
      "text/plain": [
       "<bound method Series.count of 0                                NaN\n",
       "1                                NaN\n",
       "2                                NaN\n",
       "3                        Hypothermia\n",
       "4                                NaN\n",
       "5                                NaN\n",
       "6                                NaN\n",
       "7                                NaN\n",
       "8                                NaN\n",
       "9                                NaN\n",
       "10                               NaN\n",
       "11               Fever with Jaundice\n",
       "12                               NaN\n",
       "13                               NaN\n",
       "14                               NaN\n",
       "15                               NaN\n",
       "16                               NaN\n",
       "17                               NaN\n",
       "18                               NaN\n",
       "19                               NaN\n",
       "20                               NaN\n",
       "21                               NaN\n",
       "22                               NaN\n",
       "23                               NaN\n",
       "24                               NaN\n",
       "25                               NaN\n",
       "26                            Others\n",
       "27                               NaN\n",
       "28                               NaN\n",
       "29                               NaN\n",
       "                    ...             \n",
       "1840                             NaN\n",
       "1841                             NaN\n",
       "1842                             NaN\n",
       "1843                             NaN\n",
       "1844                          Others\n",
       "1845                        Jaundice\n",
       "1846                             NaN\n",
       "1847    Convulsions soon after birth\n",
       "1848                             NaN\n",
       "1849                     Hypothermia\n",
       "1850                          Others\n",
       "1851                             NaN\n",
       "1852                             NaN\n",
       "1853                             NaN\n",
       "1854                             NaN\n",
       "1855                             NaN\n",
       "1856                             NaN\n",
       "1857                             NaN\n",
       "1858                             NaN\n",
       "1859           Diarrhoea / Dysentery\n",
       "1860                             NaN\n",
       "1861                        Asphyxia\n",
       "1862                             NaN\n",
       "1863                  Birth injuries\n",
       "1864                             NaN\n",
       "1865                             NaN\n",
       "1866                             NaN\n",
       "1867                             NaN\n",
       "1868                  Birth injuries\n",
       "1869                             NaN\n",
       "Name: death_symptoms, Length: 1870, dtype: object>"
      ]
     },
     "execution_count": 77,
     "metadata": {},
     "output_type": "execute_result"
    }
   ],
   "source": [
    "df['death_symptoms'].count"
   ]
  },
  {
   "cell_type": "code",
   "execution_count": 58,
   "metadata": {},
   "outputs": [],
   "source": [
    "import pandas as pd"
   ]
  },
  {
   "cell_type": "code",
   "execution_count": 59,
   "metadata": {},
   "outputs": [],
   "source": [
    "df= pd.read_csv(\"Filtered_data.csv\")"
   ]
  },
  {
   "cell_type": "code",
   "execution_count": 61,
   "metadata": {},
   "outputs": [
    {
     "data": {
      "text/html": [
       "<div>\n",
       "<style scoped>\n",
       "    .dataframe tbody tr th:only-of-type {\n",
       "        vertical-align: middle;\n",
       "    }\n",
       "\n",
       "    .dataframe tbody tr th {\n",
       "        vertical-align: top;\n",
       "    }\n",
       "\n",
       "    .dataframe thead th {\n",
       "        text-align: right;\n",
       "    }\n",
       "</style>\n",
       "<table border=\"1\" class=\"dataframe\">\n",
       "  <thead>\n",
       "    <tr style=\"text-align: right;\">\n",
       "      <th></th>\n",
       "      <th>Unnamed: 0</th>\n",
       "      <th>state</th>\n",
       "      <th>district</th>\n",
       "      <th>deceased_sex</th>\n",
       "      <th>treatment_source</th>\n",
       "      <th>month_of_death</th>\n",
       "      <th>year_of_death</th>\n",
       "      <th>death_symptoms</th>\n",
       "      <th>is_death_associated_with_preg</th>\n",
       "      <th>marital_status</th>\n",
       "      <th>highest_qualification</th>\n",
       "      <th>drinking_water_source</th>\n",
       "      <th>toilet_used</th>\n",
       "    </tr>\n",
       "  </thead>\n",
       "  <tbody>\n",
       "    <tr>\n",
       "      <th>0</th>\n",
       "      <td>0</td>\n",
       "      <td>RAJASTHAN</td>\n",
       "      <td>JAIPUR</td>\n",
       "      <td>Female</td>\n",
       "      <td>Private Hospital</td>\n",
       "      <td>10</td>\n",
       "      <td>2011</td>\n",
       "      <td>NaN</td>\n",
       "      <td>No</td>\n",
       "      <td>Married and Gauna performed</td>\n",
       "      <td>Literate With formal education-Post Grad/ M.Te...</td>\n",
       "      <td>Piped water into dwelling/yard/plot</td>\n",
       "      <td>Flush/Pour flush latrine connected:-To piped s...</td>\n",
       "    </tr>\n",
       "    <tr>\n",
       "      <th>1</th>\n",
       "      <td>1</td>\n",
       "      <td>RAJASTHAN</td>\n",
       "      <td>JAIPUR</td>\n",
       "      <td>Male</td>\n",
       "      <td>Private Hospital</td>\n",
       "      <td>6</td>\n",
       "      <td>2011</td>\n",
       "      <td>NaN</td>\n",
       "      <td>NaN</td>\n",
       "      <td>Married and Gauna performed</td>\n",
       "      <td>Literate with formal education-Graduate/B.Tech...</td>\n",
       "      <td>Piped water into dwelling/yard/plot</td>\n",
       "      <td>Flush/Pour flush latrine connected:-To piped s...</td>\n",
       "    </tr>\n",
       "    <tr>\n",
       "      <th>2</th>\n",
       "      <td>2</td>\n",
       "      <td>RAJASTHAN</td>\n",
       "      <td>JAIPUR</td>\n",
       "      <td>Male</td>\n",
       "      <td>Government Hospital</td>\n",
       "      <td>11</td>\n",
       "      <td>2011</td>\n",
       "      <td>NaN</td>\n",
       "      <td>NaN</td>\n",
       "      <td>Married and Gauna performed</td>\n",
       "      <td>Literate With formal education-Middle</td>\n",
       "      <td>Piped water into dwelling/yard/plot</td>\n",
       "      <td>Flush/Pour flush latrine connected:-To piped s...</td>\n",
       "    </tr>\n",
       "    <tr>\n",
       "      <th>3</th>\n",
       "      <td>3</td>\n",
       "      <td>RAJASTHAN</td>\n",
       "      <td>JAIPUR</td>\n",
       "      <td>Female</td>\n",
       "      <td>Government Hospital</td>\n",
       "      <td>3</td>\n",
       "      <td>2011</td>\n",
       "      <td>Hypothermia</td>\n",
       "      <td>NaN</td>\n",
       "      <td>Married and Gauna performed</td>\n",
       "      <td>Literate With formal education-Secondary/Matri...</td>\n",
       "      <td>Piped water into dwelling/yard/plot</td>\n",
       "      <td>open defecation(field, brush,jungle etc.)</td>\n",
       "    </tr>\n",
       "    <tr>\n",
       "      <th>4</th>\n",
       "      <td>4</td>\n",
       "      <td>RAJASTHAN</td>\n",
       "      <td>JAIPUR</td>\n",
       "      <td>Female</td>\n",
       "      <td>No Medical attention</td>\n",
       "      <td>8</td>\n",
       "      <td>2011</td>\n",
       "      <td>NaN</td>\n",
       "      <td>NaN</td>\n",
       "      <td>Married and Gauna performed</td>\n",
       "      <td>Literate With formal education-Below primary</td>\n",
       "      <td>Public tap/standpipe</td>\n",
       "      <td>To septic tank</td>\n",
       "    </tr>\n",
       "  </tbody>\n",
       "</table>\n",
       "</div>"
      ],
      "text/plain": [
       "   Unnamed: 0      state district deceased_sex      treatment_source  \\\n",
       "0           0  RAJASTHAN   JAIPUR       Female      Private Hospital   \n",
       "1           1  RAJASTHAN   JAIPUR         Male      Private Hospital   \n",
       "2           2  RAJASTHAN   JAIPUR         Male   Government Hospital   \n",
       "3           3  RAJASTHAN   JAIPUR       Female   Government Hospital   \n",
       "4           4  RAJASTHAN   JAIPUR       Female  No Medical attention   \n",
       "\n",
       "   month_of_death  year_of_death death_symptoms is_death_associated_with_preg  \\\n",
       "0              10           2011            NaN                            No   \n",
       "1               6           2011            NaN                           NaN   \n",
       "2              11           2011            NaN                           NaN   \n",
       "3               3           2011    Hypothermia                           NaN   \n",
       "4               8           2011            NaN                           NaN   \n",
       "\n",
       "                marital_status  \\\n",
       "0  Married and Gauna performed   \n",
       "1  Married and Gauna performed   \n",
       "2  Married and Gauna performed   \n",
       "3  Married and Gauna performed   \n",
       "4  Married and Gauna performed   \n",
       "\n",
       "                               highest_qualification  \\\n",
       "0  Literate With formal education-Post Grad/ M.Te...   \n",
       "1  Literate with formal education-Graduate/B.Tech...   \n",
       "2              Literate With formal education-Middle   \n",
       "3  Literate With formal education-Secondary/Matri...   \n",
       "4       Literate With formal education-Below primary   \n",
       "\n",
       "                 drinking_water_source  \\\n",
       "0  Piped water into dwelling/yard/plot   \n",
       "1  Piped water into dwelling/yard/plot   \n",
       "2  Piped water into dwelling/yard/plot   \n",
       "3  Piped water into dwelling/yard/plot   \n",
       "4                 Public tap/standpipe   \n",
       "\n",
       "                                         toilet_used  \n",
       "0  Flush/Pour flush latrine connected:-To piped s...  \n",
       "1  Flush/Pour flush latrine connected:-To piped s...  \n",
       "2  Flush/Pour flush latrine connected:-To piped s...  \n",
       "3          open defecation(field, brush,jungle etc.)  \n",
       "4                                     To septic tank  "
      ]
     },
     "execution_count": 61,
     "metadata": {},
     "output_type": "execute_result"
    }
   ],
   "source": [
    "df.head()"
   ]
  },
  {
   "cell_type": "code",
   "execution_count": 62,
   "metadata": {},
   "outputs": [
    {
     "ename": "AttributeError",
     "evalue": "'DataFrame' object has no attribute 'na'",
     "output_type": "error",
     "traceback": [
      "\u001b[0;31m---------------------------------------------------------------------------\u001b[0m",
      "\u001b[0;31mAttributeError\u001b[0m                            Traceback (most recent call last)",
      "\u001b[0;32m<ipython-input-62-aa0b6d714322>\u001b[0m in \u001b[0;36m<module>\u001b[0;34m\u001b[0m\n\u001b[0;32m----> 1\u001b[0;31m \u001b[0mdf\u001b[0m\u001b[0;34m.\u001b[0m\u001b[0mna\u001b[0m\u001b[0;34m.\u001b[0m\u001b[0mdrop\u001b[0m\u001b[0;34m(\u001b[0m\u001b[0;34m)\u001b[0m\u001b[0;34m\u001b[0m\u001b[0;34m\u001b[0m\u001b[0m\n\u001b[0m",
      "\u001b[0;32m/usr/local/lib/python3.6/dist-packages/pandas/core/generic.py\u001b[0m in \u001b[0;36m__getattr__\u001b[0;34m(self, name)\u001b[0m\n\u001b[1;32m   5065\u001b[0m             \u001b[0;32mif\u001b[0m \u001b[0mself\u001b[0m\u001b[0;34m.\u001b[0m\u001b[0m_info_axis\u001b[0m\u001b[0;34m.\u001b[0m\u001b[0m_can_hold_identifiers_and_holds_name\u001b[0m\u001b[0;34m(\u001b[0m\u001b[0mname\u001b[0m\u001b[0;34m)\u001b[0m\u001b[0;34m:\u001b[0m\u001b[0;34m\u001b[0m\u001b[0;34m\u001b[0m\u001b[0m\n\u001b[1;32m   5066\u001b[0m                 \u001b[0;32mreturn\u001b[0m \u001b[0mself\u001b[0m\u001b[0;34m[\u001b[0m\u001b[0mname\u001b[0m\u001b[0;34m]\u001b[0m\u001b[0;34m\u001b[0m\u001b[0;34m\u001b[0m\u001b[0m\n\u001b[0;32m-> 5067\u001b[0;31m             \u001b[0;32mreturn\u001b[0m \u001b[0mobject\u001b[0m\u001b[0;34m.\u001b[0m\u001b[0m__getattribute__\u001b[0m\u001b[0;34m(\u001b[0m\u001b[0mself\u001b[0m\u001b[0;34m,\u001b[0m \u001b[0mname\u001b[0m\u001b[0;34m)\u001b[0m\u001b[0;34m\u001b[0m\u001b[0;34m\u001b[0m\u001b[0m\n\u001b[0m\u001b[1;32m   5068\u001b[0m \u001b[0;34m\u001b[0m\u001b[0m\n\u001b[1;32m   5069\u001b[0m     \u001b[0;32mdef\u001b[0m \u001b[0m__setattr__\u001b[0m\u001b[0;34m(\u001b[0m\u001b[0mself\u001b[0m\u001b[0;34m,\u001b[0m \u001b[0mname\u001b[0m\u001b[0;34m,\u001b[0m \u001b[0mvalue\u001b[0m\u001b[0;34m)\u001b[0m\u001b[0;34m:\u001b[0m\u001b[0;34m\u001b[0m\u001b[0;34m\u001b[0m\u001b[0m\n",
      "\u001b[0;31mAttributeError\u001b[0m: 'DataFrame' object has no attribute 'na'"
     ]
    }
   ],
   "source": [
    "df.na.drop()"
   ]
  },
  {
   "cell_type": "code",
   "execution_count": 32,
   "metadata": {},
   "outputs": [],
   "source": [
    "tc = df.corr()"
   ]
  },
  {
   "cell_type": "code",
   "execution_count": 33,
   "metadata": {},
   "outputs": [
    {
     "data": {
      "text/html": [
       "<div>\n",
       "<style scoped>\n",
       "    .dataframe tbody tr th:only-of-type {\n",
       "        vertical-align: middle;\n",
       "    }\n",
       "\n",
       "    .dataframe tbody tr th {\n",
       "        vertical-align: top;\n",
       "    }\n",
       "\n",
       "    .dataframe thead th {\n",
       "        text-align: right;\n",
       "    }\n",
       "</style>\n",
       "<table border=\"1\" class=\"dataframe\">\n",
       "  <thead>\n",
       "    <tr style=\"text-align: right;\">\n",
       "      <th></th>\n",
       "      <th>Unnamed: 0</th>\n",
       "      <th>month_of_death</th>\n",
       "      <th>year_of_death</th>\n",
       "    </tr>\n",
       "  </thead>\n",
       "  <tbody>\n",
       "    <tr>\n",
       "      <th>Unnamed: 0</th>\n",
       "      <td>1.000000</td>\n",
       "      <td>-0.00964</td>\n",
       "      <td>-0.126452</td>\n",
       "    </tr>\n",
       "    <tr>\n",
       "      <th>month_of_death</th>\n",
       "      <td>-0.009640</td>\n",
       "      <td>1.00000</td>\n",
       "      <td>-0.000240</td>\n",
       "    </tr>\n",
       "    <tr>\n",
       "      <th>year_of_death</th>\n",
       "      <td>-0.126452</td>\n",
       "      <td>-0.00024</td>\n",
       "      <td>1.000000</td>\n",
       "    </tr>\n",
       "  </tbody>\n",
       "</table>\n",
       "</div>"
      ],
      "text/plain": [
       "                Unnamed: 0  month_of_death  year_of_death\n",
       "Unnamed: 0        1.000000        -0.00964      -0.126452\n",
       "month_of_death   -0.009640         1.00000      -0.000240\n",
       "year_of_death    -0.126452        -0.00024       1.000000"
      ]
     },
     "execution_count": 33,
     "metadata": {},
     "output_type": "execute_result"
    }
   ],
   "source": [
    "tc"
   ]
  },
  {
   "cell_type": "code",
   "execution_count": 34,
   "metadata": {},
   "outputs": [],
   "source": [
    "#df.drop(df['Unnamed: 0'],inplace=True)"
   ]
  },
  {
   "cell_type": "code",
   "execution_count": 35,
   "metadata": {},
   "outputs": [
    {
     "data": {
      "text/html": [
       "<div>\n",
       "<style scoped>\n",
       "    .dataframe tbody tr th:only-of-type {\n",
       "        vertical-align: middle;\n",
       "    }\n",
       "\n",
       "    .dataframe tbody tr th {\n",
       "        vertical-align: top;\n",
       "    }\n",
       "\n",
       "    .dataframe thead th {\n",
       "        text-align: right;\n",
       "    }\n",
       "</style>\n",
       "<table border=\"1\" class=\"dataframe\">\n",
       "  <thead>\n",
       "    <tr style=\"text-align: right;\">\n",
       "      <th></th>\n",
       "      <th>Unnamed: 0</th>\n",
       "      <th>state</th>\n",
       "      <th>district</th>\n",
       "      <th>deceased_sex</th>\n",
       "      <th>treatment_source</th>\n",
       "      <th>month_of_death</th>\n",
       "      <th>year_of_death</th>\n",
       "      <th>death_symptoms</th>\n",
       "      <th>is_death_associated_with_preg</th>\n",
       "      <th>marital_status</th>\n",
       "      <th>highest_qualification</th>\n",
       "      <th>drinking_water_source</th>\n",
       "      <th>toilet_used</th>\n",
       "    </tr>\n",
       "  </thead>\n",
       "  <tbody>\n",
       "    <tr>\n",
       "      <th>0</th>\n",
       "      <td>0</td>\n",
       "      <td>RAJASTHAN</td>\n",
       "      <td>JAIPUR</td>\n",
       "      <td>Female</td>\n",
       "      <td>Private Hospital</td>\n",
       "      <td>10</td>\n",
       "      <td>2011</td>\n",
       "      <td>NaN</td>\n",
       "      <td>No</td>\n",
       "      <td>Married and Gauna performed</td>\n",
       "      <td>Literate With formal education-Post Grad/ M.Te...</td>\n",
       "      <td>Piped water into dwelling/yard/plot</td>\n",
       "      <td>Flush/Pour flush latrine connected:-To piped s...</td>\n",
       "    </tr>\n",
       "    <tr>\n",
       "      <th>1</th>\n",
       "      <td>1</td>\n",
       "      <td>RAJASTHAN</td>\n",
       "      <td>JAIPUR</td>\n",
       "      <td>Male</td>\n",
       "      <td>Private Hospital</td>\n",
       "      <td>6</td>\n",
       "      <td>2011</td>\n",
       "      <td>NaN</td>\n",
       "      <td>NaN</td>\n",
       "      <td>Married and Gauna performed</td>\n",
       "      <td>Literate with formal education-Graduate/B.Tech...</td>\n",
       "      <td>Piped water into dwelling/yard/plot</td>\n",
       "      <td>Flush/Pour flush latrine connected:-To piped s...</td>\n",
       "    </tr>\n",
       "    <tr>\n",
       "      <th>2</th>\n",
       "      <td>2</td>\n",
       "      <td>RAJASTHAN</td>\n",
       "      <td>JAIPUR</td>\n",
       "      <td>Male</td>\n",
       "      <td>Government Hospital</td>\n",
       "      <td>11</td>\n",
       "      <td>2011</td>\n",
       "      <td>NaN</td>\n",
       "      <td>NaN</td>\n",
       "      <td>Married and Gauna performed</td>\n",
       "      <td>Literate With formal education-Middle</td>\n",
       "      <td>Piped water into dwelling/yard/plot</td>\n",
       "      <td>Flush/Pour flush latrine connected:-To piped s...</td>\n",
       "    </tr>\n",
       "    <tr>\n",
       "      <th>3</th>\n",
       "      <td>3</td>\n",
       "      <td>RAJASTHAN</td>\n",
       "      <td>JAIPUR</td>\n",
       "      <td>Female</td>\n",
       "      <td>Government Hospital</td>\n",
       "      <td>3</td>\n",
       "      <td>2011</td>\n",
       "      <td>Hypothermia</td>\n",
       "      <td>NaN</td>\n",
       "      <td>Married and Gauna performed</td>\n",
       "      <td>Literate With formal education-Secondary/Matri...</td>\n",
       "      <td>Piped water into dwelling/yard/plot</td>\n",
       "      <td>open defecation(field, brush,jungle etc.)</td>\n",
       "    </tr>\n",
       "    <tr>\n",
       "      <th>4</th>\n",
       "      <td>4</td>\n",
       "      <td>RAJASTHAN</td>\n",
       "      <td>JAIPUR</td>\n",
       "      <td>Female</td>\n",
       "      <td>No Medical attention</td>\n",
       "      <td>8</td>\n",
       "      <td>2011</td>\n",
       "      <td>NaN</td>\n",
       "      <td>NaN</td>\n",
       "      <td>Married and Gauna performed</td>\n",
       "      <td>Literate With formal education-Below primary</td>\n",
       "      <td>Public tap/standpipe</td>\n",
       "      <td>To septic tank</td>\n",
       "    </tr>\n",
       "  </tbody>\n",
       "</table>\n",
       "</div>"
      ],
      "text/plain": [
       "   Unnamed: 0      state district deceased_sex      treatment_source  \\\n",
       "0           0  RAJASTHAN   JAIPUR       Female      Private Hospital   \n",
       "1           1  RAJASTHAN   JAIPUR         Male      Private Hospital   \n",
       "2           2  RAJASTHAN   JAIPUR         Male   Government Hospital   \n",
       "3           3  RAJASTHAN   JAIPUR       Female   Government Hospital   \n",
       "4           4  RAJASTHAN   JAIPUR       Female  No Medical attention   \n",
       "\n",
       "   month_of_death  year_of_death death_symptoms is_death_associated_with_preg  \\\n",
       "0              10           2011            NaN                            No   \n",
       "1               6           2011            NaN                           NaN   \n",
       "2              11           2011            NaN                           NaN   \n",
       "3               3           2011    Hypothermia                           NaN   \n",
       "4               8           2011            NaN                           NaN   \n",
       "\n",
       "                marital_status  \\\n",
       "0  Married and Gauna performed   \n",
       "1  Married and Gauna performed   \n",
       "2  Married and Gauna performed   \n",
       "3  Married and Gauna performed   \n",
       "4  Married and Gauna performed   \n",
       "\n",
       "                               highest_qualification  \\\n",
       "0  Literate With formal education-Post Grad/ M.Te...   \n",
       "1  Literate with formal education-Graduate/B.Tech...   \n",
       "2              Literate With formal education-Middle   \n",
       "3  Literate With formal education-Secondary/Matri...   \n",
       "4       Literate With formal education-Below primary   \n",
       "\n",
       "                 drinking_water_source  \\\n",
       "0  Piped water into dwelling/yard/plot   \n",
       "1  Piped water into dwelling/yard/plot   \n",
       "2  Piped water into dwelling/yard/plot   \n",
       "3  Piped water into dwelling/yard/plot   \n",
       "4                 Public tap/standpipe   \n",
       "\n",
       "                                         toilet_used  \n",
       "0  Flush/Pour flush latrine connected:-To piped s...  \n",
       "1  Flush/Pour flush latrine connected:-To piped s...  \n",
       "2  Flush/Pour flush latrine connected:-To piped s...  \n",
       "3          open defecation(field, brush,jungle etc.)  \n",
       "4                                     To septic tank  "
      ]
     },
     "execution_count": 35,
     "metadata": {},
     "output_type": "execute_result"
    }
   ],
   "source": [
    "df.head()"
   ]
  },
  {
   "cell_type": "code",
   "execution_count": 47,
   "metadata": {},
   "outputs": [
    {
     "data": {
      "text/plain": [
       "<matplotlib.axes._subplots.AxesSubplot at 0x7f54dff50eb8>"
      ]
     },
     "execution_count": 47,
     "metadata": {},
     "output_type": "execute_result"
    },
    {
     "data": {
      "image/png": "[encoded data removed]",
      "text/plain": [
       "<Figure size 432x288 with 2 Axes>"
      ]
     },
     "metadata": {},
     "output_type": "display_data"
    }
   ],
   "source": [
    "sns.heatmap(tc,annot=True)"
   ]
  },
  {
   "cell_type": "code",
   "execution_count": 48,
   "metadata": {},
   "outputs": [
    {
     "data": {
      "text/plain": [
       "pandas.core.frame.DataFrame"
      ]
     },
     "execution_count": 48,
     "metadata": {},
     "output_type": "execute_result"
    }
   ],
   "source": [
    "type(tc)"
   ]
  },
  {
   "cell_type": "code",
   "execution_count": 37,
   "metadata": {},
   "outputs": [],
   "source": [
    "df[\"marital_status\"].fillna(\"null\", inplace = True)\n",
    "df[\"highest_qualification\"].fillna(\"null\", inplace = True)\n",
    "df[\"drinking_water_source\"].fillna(\"null\", inplace = True)\n",
    "df[\"toilet_used\"].fillna(\"null\", inplace = True)\n",
    "df[\"death_symptoms\"].fillna(\"null\", inplace = True)\n",
    "df[\"is_death_associated_with_preg\"].fillna(\"null\", inplace = True)"
   ]
  },
  {
   "cell_type": "code",
   "execution_count": 38,
   "metadata": {},
   "outputs": [],
   "source": [
    "state={'RAJASTHAN':1}\n",
    "district = {'JAIPUR':1}\n",
    "deceased_sex = {'Female':1,'Male':2}\n",
    "treatment_source={'Private Hospital':1,'Government Hospital':2,\n",
    "                  'No Medical attention':3,'Private Dispensary/Clinic':4,\n",
    "                  'Government PHC':5,'At Home':6,'Others':7,\n",
    "                  'Private AYUSH Hospital/Clinic':8,'NGO or Trust Hosp/Clinic':9,\n",
    "                  'Government CHC':10,'Government UHC/UHP/UFWC':11,\n",
    "                  'Government Sub Center':12,'Government Dispensary/Clinic':13}\n",
    "marital_status = {'Married and Gauna performed':1, 'Widow/Widower':2, 'Never married':3, 'Separated':4, 'Married but Gauna not performed':5, 'Remarried':6,\n",
    "       'Not stated':7, 'Divorced':8,'null':0}\n",
    "highest_qualification={'Literate With formal education-Post Grad/ M.Tech/M.B.A/ MD/Equivalent or higher':1,'Literate with formal education-Graduate/B.Tech/B.B.A/MBBS/Equivalent':2,'Literate With formal education-Middle':3,'Literate With formal education-Secondary/Matric (Class-X)':4,'Literate With formal education-Below primary':5,'Literate Without formal education':6,'Literate With formal education-Primary':7,'null':0,'Literate With formal education-Hr. Secondary/Sr. Secondary/Pre-university (Class XII)':8,'Illiterate':9,'Literate With formal education-Non-technical/Technical diploma or certificate not equivalent to a degree':10}\n",
    "drinking_water_source={'Piped water into dwelling/yard/plot':1,'Public tap/standpipe':2,'Tube well or Borehole':3, \n",
    "                       'Hand pump':4, 'Unprotected dug well':5,\n",
    "       'Tanker /truck/Cart with Surface watersmall tank':6, 'Surface water':7,\n",
    "       'other sources':8, 'Protected dug well':9,'null':0}\n",
    "toilet_used={'Flush/Pour flush latrine connected:-To piped sewer system':1,\n",
    "       'open defecation(field, brush,jungle etc.)':2, 'To septic tank':3,\n",
    "       'Pit latrine with slab':4, 'To pit latrine':5, 'To somewhere else':6,\n",
    "       'community toilet':7,\n",
    "       'Pit latrine(without flush/ pour flush):-Ventilated Improved Pit(VIP)':8,\n",
    "       'Open pit /Pit latrine without slab':9,'null':0}\n",
    "death_symptoms ={'Hypothermia':1, 'Fever with Jaundice':2, 'Others':3, 'Infections':4,\n",
    "       'Preterm birth/ Low birth weight baby not thriving':5,\n",
    "       'Bleeding from umbilicus & elsewhere':6,\n",
    "       'Convulsions soon after birth':7, 'Diarrhoea / Dysentery':8,\n",
    "       'Asphyxia':9, 'Fever with rash':10, 'Birth injuries':11,\n",
    "       'Respiratory Infection':12, 'Fever with convulsions':13, 'Jaundice':14,\n",
    "       'Congenital/birth defects':15,'null':0}\n",
    "is_death_associated_with_preg = {'No':2, 'null':0, '0':0, 'Yes':1}"
   ]
  },
  {
   "cell_type": "code",
   "execution_count": 39,
   "metadata": {},
   "outputs": [],
   "source": [
    "df.state = [state[item] for item in df.state]\n"
   ]
  },
  {
   "cell_type": "code",
   "execution_count": 40,
   "metadata": {},
   "outputs": [],
   "source": [
    "df.district = [district[item] for item in df.district]\n"
   ]
  },
  {
   "cell_type": "code",
   "execution_count": 41,
   "metadata": {},
   "outputs": [],
   "source": [
    "df.deceased_sex = [deceased_sex[item] for item in df.deceased_sex]\n",
    "df.treatment_source = [treatment_source[item] for item in df.treatment_source]\n",
    "df.marital_status = [marital_status[item] for item in df.marital_status]\n"
   ]
  },
  {
   "cell_type": "code",
   "execution_count": 42,
   "metadata": {},
   "outputs": [],
   "source": [
    "df.drinking_water_source = [drinking_water_source[item] for item in df.drinking_water_source]\n",
    "df.toilet_used = [toilet_used[item] for item in df.toilet_used]\n",
    "df.highest_qualification = [highest_qualification[item] for item in df.highest_qualification]\n",
    "df.death_symptoms = [death_symptoms[item] for item in df.death_symptoms]\n",
    "df.is_death_associated_with_preg = [is_death_associated_with_preg[item] for item in df.is_death_associated_with_preg]"
   ]
  },
  {
   "cell_type": "code",
   "execution_count": 54,
   "metadata": {},
   "outputs": [
    {
     "data": {
      "text/html": [
       "<div>\n",
       "<style scoped>\n",
       "    .dataframe tbody tr th:only-of-type {\n",
       "        vertical-align: middle;\n",
       "    }\n",
       "\n",
       "    .dataframe tbody tr th {\n",
       "        vertical-align: top;\n",
       "    }\n",
       "\n",
       "    .dataframe thead th {\n",
       "        text-align: right;\n",
       "    }\n",
       "</style>\n",
       "<table border=\"1\" class=\"dataframe\">\n",
       "  <thead>\n",
       "    <tr style=\"text-align: right;\">\n",
       "      <th></th>\n",
       "      <th>Unnamed: 0</th>\n",
       "      <th>state</th>\n",
       "      <th>district</th>\n",
       "      <th>deceased_sex</th>\n",
       "      <th>treatment_source</th>\n",
       "      <th>month_of_death</th>\n",
       "      <th>year_of_death</th>\n",
       "      <th>death_symptoms</th>\n",
       "      <th>is_death_associated_with_preg</th>\n",
       "      <th>marital_status</th>\n",
       "      <th>highest_qualification</th>\n",
       "      <th>drinking_water_source</th>\n",
       "      <th>toilet_used</th>\n",
       "    </tr>\n",
       "  </thead>\n",
       "  <tbody>\n",
       "    <tr>\n",
       "      <th>0</th>\n",
       "      <td>0</td>\n",
       "      <td>1</td>\n",
       "      <td>1</td>\n",
       "      <td>1</td>\n",
       "      <td>1</td>\n",
       "      <td>10</td>\n",
       "      <td>2011</td>\n",
       "      <td>0</td>\n",
       "      <td>2</td>\n",
       "      <td>1</td>\n",
       "      <td>1</td>\n",
       "      <td>1</td>\n",
       "      <td>1</td>\n",
       "    </tr>\n",
       "    <tr>\n",
       "      <th>1</th>\n",
       "      <td>1</td>\n",
       "      <td>1</td>\n",
       "      <td>1</td>\n",
       "      <td>2</td>\n",
       "      <td>1</td>\n",
       "      <td>6</td>\n",
       "      <td>2011</td>\n",
       "      <td>0</td>\n",
       "      <td>0</td>\n",
       "      <td>1</td>\n",
       "      <td>2</td>\n",
       "      <td>1</td>\n",
       "      <td>1</td>\n",
       "    </tr>\n",
       "    <tr>\n",
       "      <th>2</th>\n",
       "      <td>2</td>\n",
       "      <td>1</td>\n",
       "      <td>1</td>\n",
       "      <td>2</td>\n",
       "      <td>2</td>\n",
       "      <td>11</td>\n",
       "      <td>2011</td>\n",
       "      <td>0</td>\n",
       "      <td>0</td>\n",
       "      <td>1</td>\n",
       "      <td>3</td>\n",
       "      <td>1</td>\n",
       "      <td>1</td>\n",
       "    </tr>\n",
       "    <tr>\n",
       "      <th>3</th>\n",
       "      <td>3</td>\n",
       "      <td>1</td>\n",
       "      <td>1</td>\n",
       "      <td>1</td>\n",
       "      <td>2</td>\n",
       "      <td>3</td>\n",
       "      <td>2011</td>\n",
       "      <td>1</td>\n",
       "      <td>0</td>\n",
       "      <td>1</td>\n",
       "      <td>4</td>\n",
       "      <td>1</td>\n",
       "      <td>2</td>\n",
       "    </tr>\n",
       "    <tr>\n",
       "      <th>4</th>\n",
       "      <td>4</td>\n",
       "      <td>1</td>\n",
       "      <td>1</td>\n",
       "      <td>1</td>\n",
       "      <td>3</td>\n",
       "      <td>8</td>\n",
       "      <td>2011</td>\n",
       "      <td>0</td>\n",
       "      <td>0</td>\n",
       "      <td>1</td>\n",
       "      <td>5</td>\n",
       "      <td>2</td>\n",
       "      <td>3</td>\n",
       "    </tr>\n",
       "  </tbody>\n",
       "</table>\n",
       "</div>"
      ],
      "text/plain": [
       "   Unnamed: 0  state  district  deceased_sex  treatment_source  \\\n",
       "0           0      1         1             1                 1   \n",
       "1           1      1         1             2                 1   \n",
       "2           2      1         1             2                 2   \n",
       "3           3      1         1             1                 2   \n",
       "4           4      1         1             1                 3   \n",
       "\n",
       "   month_of_death  year_of_death  death_symptoms  \\\n",
       "0              10           2011               0   \n",
       "1               6           2011               0   \n",
       "2              11           2011               0   \n",
       "3               3           2011               1   \n",
       "4               8           2011               0   \n",
       "\n",
       "   is_death_associated_with_preg  marital_status  highest_qualification  \\\n",
       "0                              2               1                      1   \n",
       "1                              0               1                      2   \n",
       "2                              0               1                      3   \n",
       "3                              0               1                      4   \n",
       "4                              0               1                      5   \n",
       "\n",
       "   drinking_water_source  toilet_used  \n",
       "0                      1            1  \n",
       "1                      1            1  \n",
       "2                      1            1  \n",
       "3                      1            2  \n",
       "4                      2            3  "
      ]
     },
     "execution_count": 54,
     "metadata": {},
     "output_type": "execute_result"
    }
   ],
   "source": [
    "df.head()"
   ]
  },
  {
   "cell_type": "code",
   "execution_count": null,
   "metadata": {},
   "outputs": [],
   "source": [
    "df.na.drop()"
   ]
  },
  {
   "cell_type": "code",
   "execution_count": 19,
   "metadata": {},
   "outputs": [
    {
     "data": {
      "text/plain": [
       "<matplotlib.axes._subplots.AxesSubplot at 0x7f54e8838198>"
      ]
     },
     "execution_count": 19,
     "metadata": {},
     "output_type": "execute_result"
    },
    {
     "data": {
      "image/png": "[encoded data removed]",
      "text/plain": [
       "<Figure size 432x288 with 1 Axes>"
      ]
     },
     "metadata": {},
     "output_type": "display_data"
    }
   ],
   "source": [
    "sns.set(style=\"whitegrid\")\n",
    "sns.barplot(x='deceased_sex',y='year_of_death',data=df)"
   ]
  },
  {
   "cell_type": "code",
   "execution_count": 27,
   "metadata": {},
   "outputs": [
    {
     "ename": "TypeError",
     "evalue": "list indices must be integers or slices, not str",
     "output_type": "error",
     "traceback": [
      "\u001b[0;31m---------------------------------------------------------------------------\u001b[0m",
      "\u001b[0;31mTypeError\u001b[0m                                 Traceback (most recent call last)",
      "\u001b[0;32m<ipython-input-27-23747439ab77>\u001b[0m in \u001b[0;36m<module>\u001b[0;34m\u001b[0m\n\u001b[0;32m----> 1\u001b[0;31m \u001b[0mt\u001b[0m \u001b[0;34m=\u001b[0m \u001b[0mdf\u001b[0m\u001b[0;34m[\u001b[0m\u001b[0;34m'marital_status'\u001b[0m\u001b[0;34m]\u001b[0m\u001b[0;34m\u001b[0m\u001b[0;34m\u001b[0m\u001b[0m\n\u001b[0m\u001b[1;32m      2\u001b[0m \u001b[0mt1\u001b[0m\u001b[0;34m=\u001b[0m\u001b[0mdf\u001b[0m\u001b[0;34m[\u001b[0m\u001b[0;34m'year_of_death'\u001b[0m\u001b[0;34m]\u001b[0m\u001b[0;34m\u001b[0m\u001b[0;34m\u001b[0m\u001b[0m\n",
      "\u001b[0;31mTypeError\u001b[0m: list indices must be integers or slices, not str"
     ]
    }
   ],
   "source": [
    "t = df['marital_status']\n",
    "t1=df['year_of_death'] "
   ]
  },
  {
   "cell_type": "code",
   "execution_count": 21,
   "metadata": {},
   "outputs": [
    {
     "data": {
      "text/plain": [
       "pandas.core.series.Series"
      ]
     },
     "execution_count": 21,
     "metadata": {},
     "output_type": "execute_result"
    }
   ],
   "source": [
    "type(t)"
   ]
  },
  {
   "cell_type": "code",
   "execution_count": 22,
   "metadata": {},
   "outputs": [
    {
     "data": {
      "image/png": "[encoded data removed]",
      "text/plain": [
       "<Figure size 432x288 with 1 Axes>"
      ]
     },
     "metadata": {},
     "output_type": "display_data"
    }
   ],
   "source": [
    "colors = [\"#1f77b4\", \"#ff7f0e\"]\n",
    "plt.pie(t,colors=colors,autopct='%1.1f%%', shadow=True, startangle=140)\n",
    "\n",
    "plt.show()"
   ]
  },
  {
   "cell_type": "code",
   "execution_count": 23,
   "metadata": {
    "scrolled": false
   },
   "outputs": [
    {
     "data": {
      "text/plain": [
       "<matplotlib.axes._subplots.AxesSubplot at 0x7f54e87cab70>"
      ]
     },
     "execution_count": 23,
     "metadata": {},
     "output_type": "execute_result"
    },
    {
     "data": {
      "image/png": "[encoded data removed]",
      "text/plain": [
       "<Figure size 432x432 with 1 Axes>"
      ]
     },
     "metadata": {},
     "output_type": "display_data"
    }
   ],
   "source": [
    "t.plot.pie(figsize=(6, 6))\n"
   ]
  },
  {
   "cell_type": "code",
   "execution_count": 24,
   "metadata": {
    "scrolled": true
   },
   "outputs": [
    {
     "ename": "NameError",
     "evalue": "name 'f' is not defined",
     "output_type": "error",
     "traceback": [
      "\u001b[0;31m---------------------------------------------------------------------------\u001b[0m",
      "\u001b[0;31mNameError\u001b[0m                                 Traceback (most recent call last)",
      "\u001b[0;32m<ipython-input-24-45d01f66430e>\u001b[0m in \u001b[0;36m<module>\u001b[0;34m\u001b[0m\n\u001b[1;32m      1\u001b[0m \u001b[0;32mimport\u001b[0m \u001b[0mcufflinks\u001b[0m \u001b[0;32mas\u001b[0m \u001b[0mcf\u001b[0m\u001b[0;34m\u001b[0m\u001b[0;34m\u001b[0m\u001b[0m\n\u001b[0;32m----> 2\u001b[0;31m \u001b[0mf\u001b[0m\u001b[0;34m.\u001b[0m\u001b[0mset_config_file\u001b[0m\u001b[0;34m(\u001b[0m\u001b[0mworld_readable\u001b[0m\u001b[0;34m=\u001b[0m\u001b[0;32mTrue\u001b[0m\u001b[0;34m,\u001b[0m\u001b[0moffline\u001b[0m\u001b[0;34m=\u001b[0m\u001b[0;32mFalse\u001b[0m\u001b[0;34m)\u001b[0m\u001b[0;34m\u001b[0m\u001b[0;34m\u001b[0m\u001b[0m\n\u001b[0m",
      "\u001b[0;31mNameError\u001b[0m: name 'f' is not defined"
     ]
    }
   ],
   "source": [
    "import cufflinks as cf\n",
    "f.set_config_file(world_readable=True,offline=False)"
   ]
  },
  {
   "cell_type": "code",
   "execution_count": 46,
   "metadata": {},
   "outputs": [],
   "source": [
    "df.to_csv('data.csv')"
   ]
  },
  {
   "cell_type": "code",
   "execution_count": 51,
   "metadata": {},
   "outputs": [],
   "source": [
    "data = spark.read.format('csv').load('data.csv',inferSchema=True,header=True)"
   ]
  },
  {
   "cell_type": "code",
   "execution_count": 52,
   "metadata": {},
   "outputs": [
    {
     "data": {
      "text/plain": [
       "pyspark.sql.dataframe.DataFrame"
      ]
     },
     "execution_count": 52,
     "metadata": {},
     "output_type": "execute_result"
    }
   ],
   "source": [
    "type(data)"
   ]
  },
  {
   "cell_type": "code",
   "execution_count": 53,
   "metadata": {},
   "outputs": [],
   "source": [
    "train_data,test_data =data.randomSplit([0.7,0.3])"
   ]
  },
  {
   "cell_type": "code",
   "execution_count": 91,
   "metadata": {},
   "outputs": [],
   "source": [
    "from pyspark.ml.classification import RandomForestClassifier\n",
    "from pyspark.ml.feature import VectorIndexer\n",
    "from pyspark.ml.evaluation import MulticlassClassificationEvaluator"
   ]
  },
  {
   "cell_type": "code",
   "execution_count": 92,
   "metadata": {},
   "outputs": [],
   "source": [
    "rf = RandomForestClassifier(labelCol=\"label\", featuresCol=\"year_of_death\", numTrees=20)"
   ]
  },
  {
   "cell_type": "code",
   "execution_count": 94,
   "metadata": {},
   "outputs": [
    {
     "ename": "IllegalArgumentException",
     "evalue": "'requirement failed: Column year_of_death must be of type struct<type:tinyint,size:int,indices:array<int>,values:array<double>> but was actually int.'",
     "output_type": "error",
     "traceback": [
      "\u001b[0;31m---------------------------------------------------------------------------\u001b[0m",
      "\u001b[0;31mPy4JJavaError\u001b[0m                             Traceback (most recent call last)",
      "\u001b[0;32m/usr/local/spark/python/pyspark/sql/utils.py\u001b[0m in \u001b[0;36mdeco\u001b[0;34m(*a, **kw)\u001b[0m\n\u001b[1;32m     62\u001b[0m         \u001b[0;32mtry\u001b[0m\u001b[0;34m:\u001b[0m\u001b[0;34m\u001b[0m\u001b[0;34m\u001b[0m\u001b[0m\n\u001b[0;32m---> 63\u001b[0;31m             \u001b[0;32mreturn\u001b[0m \u001b[0mf\u001b[0m\u001b[0;34m(\u001b[0m\u001b[0;34m*\u001b[0m\u001b[0ma\u001b[0m\u001b[0;34m,\u001b[0m \u001b[0;34m**\u001b[0m\u001b[0mkw\u001b[0m\u001b[0;34m)\u001b[0m\u001b[0;34m\u001b[0m\u001b[0;34m\u001b[0m\u001b[0m\n\u001b[0m\u001b[1;32m     64\u001b[0m         \u001b[0;32mexcept\u001b[0m \u001b[0mpy4j\u001b[0m\u001b[0;34m.\u001b[0m\u001b[0mprotocol\u001b[0m\u001b[0;34m.\u001b[0m\u001b[0mPy4JJavaError\u001b[0m \u001b[0;32mas\u001b[0m \u001b[0me\u001b[0m\u001b[0;34m:\u001b[0m\u001b[0;34m\u001b[0m\u001b[0;34m\u001b[0m\u001b[0m\n",
      "\u001b[0;32m/usr/local/spark/python/lib/py4j-0.10.7-src.zip/py4j/protocol.py\u001b[0m in \u001b[0;36mget_return_value\u001b[0;34m(answer, gateway_client, target_id, name)\u001b[0m\n\u001b[1;32m    327\u001b[0m                     \u001b[0;34m\"An error occurred while calling {0}{1}{2}.\\n\"\u001b[0m\u001b[0;34m.\u001b[0m\u001b[0;34m\u001b[0m\u001b[0;34m\u001b[0m\u001b[0m\n\u001b[0;32m--> 328\u001b[0;31m                     format(target_id, \".\", name), value)\n\u001b[0m\u001b[1;32m    329\u001b[0m             \u001b[0;32melse\u001b[0m\u001b[0;34m:\u001b[0m\u001b[0;34m\u001b[0m\u001b[0;34m\u001b[0m\u001b[0m\n",
      "\u001b[0;31mPy4JJavaError\u001b[0m: An error occurred while calling o301.fit.\n: java.lang.IllegalArgumentException: requirement failed: Column year_of_death must be of type struct<type:tinyint,size:int,indices:array<int>,values:array<double>> but was actually int.\n\tat scala.Predef$.require(Predef.scala:224)\n\tat org.apache.spark.ml.util.SchemaUtils$.checkColumnType(SchemaUtils.scala:43)\n\tat org.apache.spark.ml.PredictorParams$class.validateAndTransformSchema(Predictor.scala:51)\n\tat org.apache.spark.ml.classification.Classifier.org$apache$spark$ml$classification$ClassifierParams$$super$validateAndTransformSchema(Classifier.scala:58)\n\tat org.apache.spark.ml.classification.ClassifierParams$class.validateAndTransformSchema(Classifier.scala:42)\n\tat org.apache.spark.ml.classification.ProbabilisticClassifier.org$apache$spark$ml$classification$ProbabilisticClassifierParams$$super$validateAndTransformSchema(ProbabilisticClassifier.scala:53)\n\tat org.apache.spark.ml.classification.ProbabilisticClassifierParams$class.validateAndTransformSchema(ProbabilisticClassifier.scala:37)\n\tat org.apache.spark.ml.classification.ProbabilisticClassifier.validateAndTransformSchema(ProbabilisticClassifier.scala:53)\n\tat org.apache.spark.ml.Predictor.transformSchema(Predictor.scala:144)\n\tat org.apache.spark.ml.PipelineStage.transformSchema(Pipeline.scala:74)\n\tat org.apache.spark.ml.Predictor.fit(Predictor.scala:100)\n\tat sun.reflect.NativeMethodAccessorImpl.invoke0(Native Method)\n\tat sun.reflect.NativeMethodAccessorImpl.invoke(NativeMethodAccessorImpl.java:62)\n\tat sun.reflect.DelegatingMethodAccessorImpl.invoke(DelegatingMethodAccessorImpl.java:43)\n\tat java.lang.reflect.Method.invoke(Method.java:498)\n\tat py4j.reflection.MethodInvoker.invoke(MethodInvoker.java:244)\n\tat py4j.reflection.ReflectionEngine.invoke(ReflectionEngine.java:357)\n\tat py4j.Gateway.invoke(Gateway.java:282)\n\tat py4j.commands.AbstractCommand.invokeMethod(AbstractCommand.java:132)\n\tat py4j.commands.CallCommand.execute(CallCommand.java:79)\n\tat py4j.GatewayConnection.run(GatewayConnection.java:238)\n\tat java.lang.Thread.run(Thread.java:748)\n",
      "\nDuring handling of the above exception, another exception occurred:\n",
      "\u001b[0;31mIllegalArgumentException\u001b[0m                  Traceback (most recent call last)",
      "\u001b[0;32m<ipython-input-94-6a3ee1210500>\u001b[0m in \u001b[0;36m<module>\u001b[0;34m\u001b[0m\n\u001b[0;32m----> 1\u001b[0;31m \u001b[0mmodel\u001b[0m \u001b[0;34m=\u001b[0m \u001b[0mrf\u001b[0m\u001b[0;34m.\u001b[0m\u001b[0mfit\u001b[0m\u001b[0;34m(\u001b[0m\u001b[0mtrain_data\u001b[0m\u001b[0;34m)\u001b[0m\u001b[0;34m\u001b[0m\u001b[0;34m\u001b[0m\u001b[0m\n\u001b[0m",
      "\u001b[0;32m/usr/local/spark/python/pyspark/ml/base.py\u001b[0m in \u001b[0;36mfit\u001b[0;34m(self, dataset, params)\u001b[0m\n\u001b[1;32m    130\u001b[0m                 \u001b[0;32mreturn\u001b[0m \u001b[0mself\u001b[0m\u001b[0;34m.\u001b[0m\u001b[0mcopy\u001b[0m\u001b[0;34m(\u001b[0m\u001b[0mparams\u001b[0m\u001b[0;34m)\u001b[0m\u001b[0;34m.\u001b[0m\u001b[0m_fit\u001b[0m\u001b[0;34m(\u001b[0m\u001b[0mdataset\u001b[0m\u001b[0;34m)\u001b[0m\u001b[0;34m\u001b[0m\u001b[0;34m\u001b[0m\u001b[0m\n\u001b[1;32m    131\u001b[0m             \u001b[0;32melse\u001b[0m\u001b[0;34m:\u001b[0m\u001b[0;34m\u001b[0m\u001b[0;34m\u001b[0m\u001b[0m\n\u001b[0;32m--> 132\u001b[0;31m                 \u001b[0;32mreturn\u001b[0m \u001b[0mself\u001b[0m\u001b[0;34m.\u001b[0m\u001b[0m_fit\u001b[0m\u001b[0;34m(\u001b[0m\u001b[0mdataset\u001b[0m\u001b[0;34m)\u001b[0m\u001b[0;34m\u001b[0m\u001b[0;34m\u001b[0m\u001b[0m\n\u001b[0m\u001b[1;32m    133\u001b[0m         \u001b[0;32melse\u001b[0m\u001b[0;34m:\u001b[0m\u001b[0;34m\u001b[0m\u001b[0;34m\u001b[0m\u001b[0m\n\u001b[1;32m    134\u001b[0m             raise ValueError(\"Params must be either a param map or a list/tuple of param maps, \"\n",
      "\u001b[0;32m/usr/local/spark/python/pyspark/ml/wrapper.py\u001b[0m in \u001b[0;36m_fit\u001b[0;34m(self, dataset)\u001b[0m\n\u001b[1;32m    293\u001b[0m \u001b[0;34m\u001b[0m\u001b[0m\n\u001b[1;32m    294\u001b[0m     \u001b[0;32mdef\u001b[0m \u001b[0m_fit\u001b[0m\u001b[0;34m(\u001b[0m\u001b[0mself\u001b[0m\u001b[0;34m,\u001b[0m \u001b[0mdataset\u001b[0m\u001b[0;34m)\u001b[0m\u001b[0;34m:\u001b[0m\u001b[0;34m\u001b[0m\u001b[0;34m\u001b[0m\u001b[0m\n\u001b[0;32m--> 295\u001b[0;31m         \u001b[0mjava_model\u001b[0m \u001b[0;34m=\u001b[0m \u001b[0mself\u001b[0m\u001b[0;34m.\u001b[0m\u001b[0m_fit_java\u001b[0m\u001b[0;34m(\u001b[0m\u001b[0mdataset\u001b[0m\u001b[0;34m)\u001b[0m\u001b[0;34m\u001b[0m\u001b[0;34m\u001b[0m\u001b[0m\n\u001b[0m\u001b[1;32m    296\u001b[0m         \u001b[0mmodel\u001b[0m \u001b[0;34m=\u001b[0m \u001b[0mself\u001b[0m\u001b[0;34m.\u001b[0m\u001b[0m_create_model\u001b[0m\u001b[0;34m(\u001b[0m\u001b[0mjava_model\u001b[0m\u001b[0;34m)\u001b[0m\u001b[0;34m\u001b[0m\u001b[0;34m\u001b[0m\u001b[0m\n\u001b[1;32m    297\u001b[0m         \u001b[0;32mreturn\u001b[0m \u001b[0mself\u001b[0m\u001b[0;34m.\u001b[0m\u001b[0m_copyValues\u001b[0m\u001b[0;34m(\u001b[0m\u001b[0mmodel\u001b[0m\u001b[0;34m)\u001b[0m\u001b[0;34m\u001b[0m\u001b[0;34m\u001b[0m\u001b[0m\n",
      "\u001b[0;32m/usr/local/spark/python/pyspark/ml/wrapper.py\u001b[0m in \u001b[0;36m_fit_java\u001b[0;34m(self, dataset)\u001b[0m\n\u001b[1;32m    290\u001b[0m         \"\"\"\n\u001b[1;32m    291\u001b[0m         \u001b[0mself\u001b[0m\u001b[0;34m.\u001b[0m\u001b[0m_transfer_params_to_java\u001b[0m\u001b[0;34m(\u001b[0m\u001b[0;34m)\u001b[0m\u001b[0;34m\u001b[0m\u001b[0;34m\u001b[0m\u001b[0m\n\u001b[0;32m--> 292\u001b[0;31m         \u001b[0;32mreturn\u001b[0m \u001b[0mself\u001b[0m\u001b[0;34m.\u001b[0m\u001b[0m_java_obj\u001b[0m\u001b[0;34m.\u001b[0m\u001b[0mfit\u001b[0m\u001b[0;34m(\u001b[0m\u001b[0mdataset\u001b[0m\u001b[0;34m.\u001b[0m\u001b[0m_jdf\u001b[0m\u001b[0;34m)\u001b[0m\u001b[0;34m\u001b[0m\u001b[0;34m\u001b[0m\u001b[0m\n\u001b[0m\u001b[1;32m    293\u001b[0m \u001b[0;34m\u001b[0m\u001b[0m\n\u001b[1;32m    294\u001b[0m     \u001b[0;32mdef\u001b[0m \u001b[0m_fit\u001b[0m\u001b[0;34m(\u001b[0m\u001b[0mself\u001b[0m\u001b[0;34m,\u001b[0m \u001b[0mdataset\u001b[0m\u001b[0;34m)\u001b[0m\u001b[0;34m:\u001b[0m\u001b[0;34m\u001b[0m\u001b[0;34m\u001b[0m\u001b[0m\n",
      "\u001b[0;32m/usr/local/spark/python/lib/py4j-0.10.7-src.zip/py4j/java_gateway.py\u001b[0m in \u001b[0;36m__call__\u001b[0;34m(self, *args)\u001b[0m\n\u001b[1;32m   1255\u001b[0m         \u001b[0manswer\u001b[0m \u001b[0;34m=\u001b[0m \u001b[0mself\u001b[0m\u001b[0;34m.\u001b[0m\u001b[0mgateway_client\u001b[0m\u001b[0;34m.\u001b[0m\u001b[0msend_command\u001b[0m\u001b[0;34m(\u001b[0m\u001b[0mcommand\u001b[0m\u001b[0;34m)\u001b[0m\u001b[0;34m\u001b[0m\u001b[0;34m\u001b[0m\u001b[0m\n\u001b[1;32m   1256\u001b[0m         return_value = get_return_value(\n\u001b[0;32m-> 1257\u001b[0;31m             answer, self.gateway_client, self.target_id, self.name)\n\u001b[0m\u001b[1;32m   1258\u001b[0m \u001b[0;34m\u001b[0m\u001b[0m\n\u001b[1;32m   1259\u001b[0m         \u001b[0;32mfor\u001b[0m \u001b[0mtemp_arg\u001b[0m \u001b[0;32min\u001b[0m \u001b[0mtemp_args\u001b[0m\u001b[0;34m:\u001b[0m\u001b[0;34m\u001b[0m\u001b[0;34m\u001b[0m\u001b[0m\n",
      "\u001b[0;32m/usr/local/spark/python/pyspark/sql/utils.py\u001b[0m in \u001b[0;36mdeco\u001b[0;34m(*a, **kw)\u001b[0m\n\u001b[1;32m     77\u001b[0m                 \u001b[0;32mraise\u001b[0m \u001b[0mQueryExecutionException\u001b[0m\u001b[0;34m(\u001b[0m\u001b[0ms\u001b[0m\u001b[0;34m.\u001b[0m\u001b[0msplit\u001b[0m\u001b[0;34m(\u001b[0m\u001b[0;34m': '\u001b[0m\u001b[0;34m,\u001b[0m \u001b[0;36m1\u001b[0m\u001b[0;34m)\u001b[0m\u001b[0;34m[\u001b[0m\u001b[0;36m1\u001b[0m\u001b[0;34m]\u001b[0m\u001b[0;34m,\u001b[0m \u001b[0mstackTrace\u001b[0m\u001b[0;34m)\u001b[0m\u001b[0;34m\u001b[0m\u001b[0;34m\u001b[0m\u001b[0m\n\u001b[1;32m     78\u001b[0m             \u001b[0;32mif\u001b[0m \u001b[0ms\u001b[0m\u001b[0;34m.\u001b[0m\u001b[0mstartswith\u001b[0m\u001b[0;34m(\u001b[0m\u001b[0;34m'java.lang.IllegalArgumentException: '\u001b[0m\u001b[0;34m)\u001b[0m\u001b[0;34m:\u001b[0m\u001b[0;34m\u001b[0m\u001b[0;34m\u001b[0m\u001b[0m\n\u001b[0;32m---> 79\u001b[0;31m                 \u001b[0;32mraise\u001b[0m \u001b[0mIllegalArgumentException\u001b[0m\u001b[0;34m(\u001b[0m\u001b[0ms\u001b[0m\u001b[0;34m.\u001b[0m\u001b[0msplit\u001b[0m\u001b[0;34m(\u001b[0m\u001b[0;34m': '\u001b[0m\u001b[0;34m,\u001b[0m \u001b[0;36m1\u001b[0m\u001b[0;34m)\u001b[0m\u001b[0;34m[\u001b[0m\u001b[0;36m1\u001b[0m\u001b[0;34m]\u001b[0m\u001b[0;34m,\u001b[0m \u001b[0mstackTrace\u001b[0m\u001b[0;34m)\u001b[0m\u001b[0;34m\u001b[0m\u001b[0;34m\u001b[0m\u001b[0m\n\u001b[0m\u001b[1;32m     80\u001b[0m             \u001b[0;32mraise\u001b[0m\u001b[0;34m\u001b[0m\u001b[0;34m\u001b[0m\u001b[0m\n\u001b[1;32m     81\u001b[0m     \u001b[0;32mreturn\u001b[0m \u001b[0mdeco\u001b[0m\u001b[0;34m\u001b[0m\u001b[0;34m\u001b[0m\u001b[0m\n",
      "\u001b[0;31mIllegalArgumentException\u001b[0m: 'requirement failed: Column year_of_death must be of type struct<type:tinyint,size:int,indices:array<int>,values:array<double>> but was actually int.'"
     ]
    }
   ],
   "source": [
    "model = rf.fit(train_data)"
   ]
  },
  {
   "cell_type": "code",
   "execution_count": null,
   "metadata": {},
   "outputs": [],
   "source": [
    "+\n"
   ]
  }
 ],
 "metadata": {
  "kernelspec": {
   "display_name": "Python 3",
   "language": "python",
   "name": "python3"
  },
  "language_info": {
   "codemirror_mode": {
    "name": "ipython",
    "version": 3
   },
   "file_extension": ".py",
   "mimetype": "text/x-python",
   "name": "python",
   "nbconvert_exporter": "python",
   "pygments_lexer": "ipython3",
   "version": "3.6.8"
  }
 },
 "nbformat": 4,
 "nbformat_minor": 2
}
