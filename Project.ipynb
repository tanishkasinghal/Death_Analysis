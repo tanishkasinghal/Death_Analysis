{
 "cells": [
  {
   "cell_type": "code",
   "execution_count": 1,
   "metadata": {},
   "outputs": [],
   "source": [
    "import findspark\n",
    "findspark.init('/usr/local/spark')\n",
    "from pyspark.sql import SparkSession\n",
    "spark = SparkSession.builder.appName('proj').getOrCreate()"
   ]
  },
  {
   "cell_type": "code",
   "execution_count": 2,
   "metadata": {},
   "outputs": [],
   "source": [
    "import seaborn as sns\n",
    "import matplotlib.pyplot as plt"
   ]
  },
  {
   "cell_type": "code",
   "execution_count": 3,
   "metadata": {},
   "outputs": [],
   "source": [
    "data = spark.read.format('csv').load('Filtered_data.csv',header=True,inferSchema=True)"
   ]
  },
  {
   "cell_type": "code",
   "execution_count": 4,
   "metadata": {},
   "outputs": [
    {
     "data": {
      "text/plain": [
       "DataFrame[_c0: int, state: string, district: string, deceased_sex: string, treatment_source: string, month_of_death: int, year_of_death: int, death_symptoms: string, is_death_associated_with_preg: string, marital_status: string, highest_qualification: string, drinking_water_source: string, toilet_used: string]"
      ]
     },
     "execution_count": 4,
     "metadata": {},
     "output_type": "execute_result"
    }
   ],
   "source": [
    "data.na.drop(how='any')"
   ]
  },
  {
   "cell_type": "code",
   "execution_count": 5,
   "metadata": {},
   "outputs": [
    {
     "data": {
      "text/plain": [
       "Column<b'death_symptoms[count]'>"
      ]
     },
     "execution_count": 5,
     "metadata": {},
     "output_type": "execute_result"
    }
   ],
   "source": [
    "data['death_symptoms'].count"
   ]
  },
  {
   "cell_type": "code",
   "execution_count": 6,
   "metadata": {},
   "outputs": [],
   "source": [
    "import pandas as pd"
   ]
  },
  {
   "cell_type": "code",
   "execution_count": 7,
   "metadata": {},
   "outputs": [],
   "source": [
    "df= pd.read_csv(\"Filtered_data.csv\")"
   ]
  },
  {
   "cell_type": "code",
   "execution_count": 8,
   "metadata": {},
   "outputs": [
    {
     "data": {
      "text/html": [
       "<div>\n",
       "<style scoped>\n",
       "    .dataframe tbody tr th:only-of-type {\n",
       "        vertical-align: middle;\n",
       "    }\n",
       "\n",
       "    .dataframe tbody tr th {\n",
       "        vertical-align: top;\n",
       "    }\n",
       "\n",
       "    .dataframe thead th {\n",
       "        text-align: right;\n",
       "    }\n",
       "</style>\n",
       "<table border=\"1\" class=\"dataframe\">\n",
       "  <thead>\n",
       "    <tr style=\"text-align: right;\">\n",
       "      <th></th>\n",
       "      <th>Unnamed: 0</th>\n",
       "      <th>state</th>\n",
       "      <th>district</th>\n",
       "      <th>deceased_sex</th>\n",
       "      <th>treatment_source</th>\n",
       "      <th>month_of_death</th>\n",
       "      <th>year_of_death</th>\n",
       "      <th>death_symptoms</th>\n",
       "      <th>is_death_associated_with_preg</th>\n",
       "      <th>marital_status</th>\n",
       "      <th>highest_qualification</th>\n",
       "      <th>drinking_water_source</th>\n",
       "      <th>toilet_used</th>\n",
       "    </tr>\n",
       "  </thead>\n",
       "  <tbody>\n",
       "    <tr>\n",
       "      <th>0</th>\n",
       "      <td>0</td>\n",
       "      <td>RAJASTHAN</td>\n",
       "      <td>JAIPUR</td>\n",
       "      <td>Female</td>\n",
       "      <td>Private Hospital</td>\n",
       "      <td>10</td>\n",
       "      <td>2011</td>\n",
       "      <td>NaN</td>\n",
       "      <td>No</td>\n",
       "      <td>Married and Gauna performed</td>\n",
       "      <td>Literate With formal education-Post Grad/ M.Te...</td>\n",
       "      <td>Piped water into dwelling/yard/plot</td>\n",
       "      <td>Flush/Pour flush latrine connected:-To piped s...</td>\n",
       "    </tr>\n",
       "    <tr>\n",
       "      <th>1</th>\n",
       "      <td>1</td>\n",
       "      <td>RAJASTHAN</td>\n",
       "      <td>JAIPUR</td>\n",
       "      <td>Male</td>\n",
       "      <td>Private Hospital</td>\n",
       "      <td>6</td>\n",
       "      <td>2011</td>\n",
       "      <td>NaN</td>\n",
       "      <td>NaN</td>\n",
       "      <td>Married and Gauna performed</td>\n",
       "      <td>Literate with formal education-Graduate/B.Tech...</td>\n",
       "      <td>Piped water into dwelling/yard/plot</td>\n",
       "      <td>Flush/Pour flush latrine connected:-To piped s...</td>\n",
       "    </tr>\n",
       "    <tr>\n",
       "      <th>2</th>\n",
       "      <td>2</td>\n",
       "      <td>RAJASTHAN</td>\n",
       "      <td>JAIPUR</td>\n",
       "      <td>Male</td>\n",
       "      <td>Government Hospital</td>\n",
       "      <td>11</td>\n",
       "      <td>2011</td>\n",
       "      <td>NaN</td>\n",
       "      <td>NaN</td>\n",
       "      <td>Married and Gauna performed</td>\n",
       "      <td>Literate With formal education-Middle</td>\n",
       "      <td>Piped water into dwelling/yard/plot</td>\n",
       "      <td>Flush/Pour flush latrine connected:-To piped s...</td>\n",
       "    </tr>\n",
       "    <tr>\n",
       "      <th>3</th>\n",
       "      <td>3</td>\n",
       "      <td>RAJASTHAN</td>\n",
       "      <td>JAIPUR</td>\n",
       "      <td>Female</td>\n",
       "      <td>Government Hospital</td>\n",
       "      <td>3</td>\n",
       "      <td>2011</td>\n",
       "      <td>Hypothermia</td>\n",
       "      <td>NaN</td>\n",
       "      <td>Married and Gauna performed</td>\n",
       "      <td>Literate With formal education-Secondary/Matri...</td>\n",
       "      <td>Piped water into dwelling/yard/plot</td>\n",
       "      <td>open defecation(field, brush,jungle etc.)</td>\n",
       "    </tr>\n",
       "    <tr>\n",
       "      <th>4</th>\n",
       "      <td>4</td>\n",
       "      <td>RAJASTHAN</td>\n",
       "      <td>JAIPUR</td>\n",
       "      <td>Female</td>\n",
       "      <td>No Medical attention</td>\n",
       "      <td>8</td>\n",
       "      <td>2011</td>\n",
       "      <td>NaN</td>\n",
       "      <td>NaN</td>\n",
       "      <td>Married and Gauna performed</td>\n",
       "      <td>Literate With formal education-Below primary</td>\n",
       "      <td>Public tap/standpipe</td>\n",
       "      <td>To septic tank</td>\n",
       "    </tr>\n",
       "  </tbody>\n",
       "</table>\n",
       "</div>"
      ],
      "text/plain": [
       "   Unnamed: 0      state district deceased_sex      treatment_source  \\\n",
       "0           0  RAJASTHAN   JAIPUR       Female      Private Hospital   \n",
       "1           1  RAJASTHAN   JAIPUR         Male      Private Hospital   \n",
       "2           2  RAJASTHAN   JAIPUR         Male   Government Hospital   \n",
       "3           3  RAJASTHAN   JAIPUR       Female   Government Hospital   \n",
       "4           4  RAJASTHAN   JAIPUR       Female  No Medical attention   \n",
       "\n",
       "   month_of_death  year_of_death death_symptoms is_death_associated_with_preg  \\\n",
       "0              10           2011            NaN                            No   \n",
       "1               6           2011            NaN                           NaN   \n",
       "2              11           2011            NaN                           NaN   \n",
       "3               3           2011    Hypothermia                           NaN   \n",
       "4               8           2011            NaN                           NaN   \n",
       "\n",
       "                marital_status  \\\n",
       "0  Married and Gauna performed   \n",
       "1  Married and Gauna performed   \n",
       "2  Married and Gauna performed   \n",
       "3  Married and Gauna performed   \n",
       "4  Married and Gauna performed   \n",
       "\n",
       "                               highest_qualification  \\\n",
       "0  Literate With formal education-Post Grad/ M.Te...   \n",
       "1  Literate with formal education-Graduate/B.Tech...   \n",
       "2              Literate With formal education-Middle   \n",
       "3  Literate With formal education-Secondary/Matri...   \n",
       "4       Literate With formal education-Below primary   \n",
       "\n",
       "                 drinking_water_source  \\\n",
       "0  Piped water into dwelling/yard/plot   \n",
       "1  Piped water into dwelling/yard/plot   \n",
       "2  Piped water into dwelling/yard/plot   \n",
       "3  Piped water into dwelling/yard/plot   \n",
       "4                 Public tap/standpipe   \n",
       "\n",
       "                                         toilet_used  \n",
       "0  Flush/Pour flush latrine connected:-To piped s...  \n",
       "1  Flush/Pour flush latrine connected:-To piped s...  \n",
       "2  Flush/Pour flush latrine connected:-To piped s...  \n",
       "3          open defecation(field, brush,jungle etc.)  \n",
       "4                                     To septic tank  "
      ]
     },
     "execution_count": 8,
     "metadata": {},
     "output_type": "execute_result"
    }
   ],
   "source": [
    "df.head()"
   ]
  },
  {
   "cell_type": "code",
   "execution_count": 9,
   "metadata": {},
   "outputs": [],
   "source": [
    "tc = df.corr()"
   ]
  },
  {
   "cell_type": "code",
   "execution_count": 10,
   "metadata": {},
   "outputs": [
    {
     "data": {
      "text/html": [
       "<div>\n",
       "<style scoped>\n",
       "    .dataframe tbody tr th:only-of-type {\n",
       "        vertical-align: middle;\n",
       "    }\n",
       "\n",
       "    .dataframe tbody tr th {\n",
       "        vertical-align: top;\n",
       "    }\n",
       "\n",
       "    .dataframe thead th {\n",
       "        text-align: right;\n",
       "    }\n",
       "</style>\n",
       "<table border=\"1\" class=\"dataframe\">\n",
       "  <thead>\n",
       "    <tr style=\"text-align: right;\">\n",
       "      <th></th>\n",
       "      <th>Unnamed: 0</th>\n",
       "      <th>month_of_death</th>\n",
       "      <th>year_of_death</th>\n",
       "    </tr>\n",
       "  </thead>\n",
       "  <tbody>\n",
       "    <tr>\n",
       "      <th>Unnamed: 0</th>\n",
       "      <td>1.000000</td>\n",
       "      <td>-0.00964</td>\n",
       "      <td>-0.126452</td>\n",
       "    </tr>\n",
       "    <tr>\n",
       "      <th>month_of_death</th>\n",
       "      <td>-0.009640</td>\n",
       "      <td>1.00000</td>\n",
       "      <td>-0.000240</td>\n",
       "    </tr>\n",
       "    <tr>\n",
       "      <th>year_of_death</th>\n",
       "      <td>-0.126452</td>\n",
       "      <td>-0.00024</td>\n",
       "      <td>1.000000</td>\n",
       "    </tr>\n",
       "  </tbody>\n",
       "</table>\n",
       "</div>"
      ],
      "text/plain": [
       "                Unnamed: 0  month_of_death  year_of_death\n",
       "Unnamed: 0        1.000000        -0.00964      -0.126452\n",
       "month_of_death   -0.009640         1.00000      -0.000240\n",
       "year_of_death    -0.126452        -0.00024       1.000000"
      ]
     },
     "execution_count": 10,
     "metadata": {},
     "output_type": "execute_result"
    }
   ],
   "source": [
    "tc"
   ]
  },
  {
   "cell_type": "code",
   "execution_count": 11,
   "metadata": {},
   "outputs": [],
   "source": [
    "#df.drop(df['Unnamed: 0'],inplace=True)"
   ]
  },
  {
   "cell_type": "code",
   "execution_count": 12,
   "metadata": {},
   "outputs": [
    {
     "data": {
      "text/html": [
       "<div>\n",
       "<style scoped>\n",
       "    .dataframe tbody tr th:only-of-type {\n",
       "        vertical-align: middle;\n",
       "    }\n",
       "\n",
       "    .dataframe tbody tr th {\n",
       "        vertical-align: top;\n",
       "    }\n",
       "\n",
       "    .dataframe thead th {\n",
       "        text-align: right;\n",
       "    }\n",
       "</style>\n",
       "<table border=\"1\" class=\"dataframe\">\n",
       "  <thead>\n",
       "    <tr style=\"text-align: right;\">\n",
       "      <th></th>\n",
       "      <th>Unnamed: 0</th>\n",
       "      <th>state</th>\n",
       "      <th>district</th>\n",
       "      <th>deceased_sex</th>\n",
       "      <th>treatment_source</th>\n",
       "      <th>month_of_death</th>\n",
       "      <th>year_of_death</th>\n",
       "      <th>death_symptoms</th>\n",
       "      <th>is_death_associated_with_preg</th>\n",
       "      <th>marital_status</th>\n",
       "      <th>highest_qualification</th>\n",
       "      <th>drinking_water_source</th>\n",
       "      <th>toilet_used</th>\n",
       "    </tr>\n",
       "  </thead>\n",
       "  <tbody>\n",
       "    <tr>\n",
       "      <th>0</th>\n",
       "      <td>0</td>\n",
       "      <td>RAJASTHAN</td>\n",
       "      <td>JAIPUR</td>\n",
       "      <td>Female</td>\n",
       "      <td>Private Hospital</td>\n",
       "      <td>10</td>\n",
       "      <td>2011</td>\n",
       "      <td>NaN</td>\n",
       "      <td>No</td>\n",
       "      <td>Married and Gauna performed</td>\n",
       "      <td>Literate With formal education-Post Grad/ M.Te...</td>\n",
       "      <td>Piped water into dwelling/yard/plot</td>\n",
       "      <td>Flush/Pour flush latrine connected:-To piped s...</td>\n",
       "    </tr>\n",
       "    <tr>\n",
       "      <th>1</th>\n",
       "      <td>1</td>\n",
       "      <td>RAJASTHAN</td>\n",
       "      <td>JAIPUR</td>\n",
       "      <td>Male</td>\n",
       "      <td>Private Hospital</td>\n",
       "      <td>6</td>\n",
       "      <td>2011</td>\n",
       "      <td>NaN</td>\n",
       "      <td>NaN</td>\n",
       "      <td>Married and Gauna performed</td>\n",
       "      <td>Literate with formal education-Graduate/B.Tech...</td>\n",
       "      <td>Piped water into dwelling/yard/plot</td>\n",
       "      <td>Flush/Pour flush latrine connected:-To piped s...</td>\n",
       "    </tr>\n",
       "    <tr>\n",
       "      <th>2</th>\n",
       "      <td>2</td>\n",
       "      <td>RAJASTHAN</td>\n",
       "      <td>JAIPUR</td>\n",
       "      <td>Male</td>\n",
       "      <td>Government Hospital</td>\n",
       "      <td>11</td>\n",
       "      <td>2011</td>\n",
       "      <td>NaN</td>\n",
       "      <td>NaN</td>\n",
       "      <td>Married and Gauna performed</td>\n",
       "      <td>Literate With formal education-Middle</td>\n",
       "      <td>Piped water into dwelling/yard/plot</td>\n",
       "      <td>Flush/Pour flush latrine connected:-To piped s...</td>\n",
       "    </tr>\n",
       "    <tr>\n",
       "      <th>3</th>\n",
       "      <td>3</td>\n",
       "      <td>RAJASTHAN</td>\n",
       "      <td>JAIPUR</td>\n",
       "      <td>Female</td>\n",
       "      <td>Government Hospital</td>\n",
       "      <td>3</td>\n",
       "      <td>2011</td>\n",
       "      <td>Hypothermia</td>\n",
       "      <td>NaN</td>\n",
       "      <td>Married and Gauna performed</td>\n",
       "      <td>Literate With formal education-Secondary/Matri...</td>\n",
       "      <td>Piped water into dwelling/yard/plot</td>\n",
       "      <td>open defecation(field, brush,jungle etc.)</td>\n",
       "    </tr>\n",
       "    <tr>\n",
       "      <th>4</th>\n",
       "      <td>4</td>\n",
       "      <td>RAJASTHAN</td>\n",
       "      <td>JAIPUR</td>\n",
       "      <td>Female</td>\n",
       "      <td>No Medical attention</td>\n",
       "      <td>8</td>\n",
       "      <td>2011</td>\n",
       "      <td>NaN</td>\n",
       "      <td>NaN</td>\n",
       "      <td>Married and Gauna performed</td>\n",
       "      <td>Literate With formal education-Below primary</td>\n",
       "      <td>Public tap/standpipe</td>\n",
       "      <td>To septic tank</td>\n",
       "    </tr>\n",
       "  </tbody>\n",
       "</table>\n",
       "</div>"
      ],
      "text/plain": [
       "   Unnamed: 0      state district deceased_sex      treatment_source  \\\n",
       "0           0  RAJASTHAN   JAIPUR       Female      Private Hospital   \n",
       "1           1  RAJASTHAN   JAIPUR         Male      Private Hospital   \n",
       "2           2  RAJASTHAN   JAIPUR         Male   Government Hospital   \n",
       "3           3  RAJASTHAN   JAIPUR       Female   Government Hospital   \n",
       "4           4  RAJASTHAN   JAIPUR       Female  No Medical attention   \n",
       "\n",
       "   month_of_death  year_of_death death_symptoms is_death_associated_with_preg  \\\n",
       "0              10           2011            NaN                            No   \n",
       "1               6           2011            NaN                           NaN   \n",
       "2              11           2011            NaN                           NaN   \n",
       "3               3           2011    Hypothermia                           NaN   \n",
       "4               8           2011            NaN                           NaN   \n",
       "\n",
       "                marital_status  \\\n",
       "0  Married and Gauna performed   \n",
       "1  Married and Gauna performed   \n",
       "2  Married and Gauna performed   \n",
       "3  Married and Gauna performed   \n",
       "4  Married and Gauna performed   \n",
       "\n",
       "                               highest_qualification  \\\n",
       "0  Literate With formal education-Post Grad/ M.Te...   \n",
       "1  Literate with formal education-Graduate/B.Tech...   \n",
       "2              Literate With formal education-Middle   \n",
       "3  Literate With formal education-Secondary/Matri...   \n",
       "4       Literate With formal education-Below primary   \n",
       "\n",
       "                 drinking_water_source  \\\n",
       "0  Piped water into dwelling/yard/plot   \n",
       "1  Piped water into dwelling/yard/plot   \n",
       "2  Piped water into dwelling/yard/plot   \n",
       "3  Piped water into dwelling/yard/plot   \n",
       "4                 Public tap/standpipe   \n",
       "\n",
       "                                         toilet_used  \n",
       "0  Flush/Pour flush latrine connected:-To piped s...  \n",
       "1  Flush/Pour flush latrine connected:-To piped s...  \n",
       "2  Flush/Pour flush latrine connected:-To piped s...  \n",
       "3          open defecation(field, brush,jungle etc.)  \n",
       "4                                     To septic tank  "
      ]
     },
     "execution_count": 12,
     "metadata": {},
     "output_type": "execute_result"
    }
   ],
   "source": [
    "df.head()"
   ]
  },
  {
   "cell_type": "code",
   "execution_count": 13,
   "metadata": {},
   "outputs": [
    {
     "data": {
      "text/plain": [
       "<matplotlib.axes._subplots.AxesSubplot at 0x7f5977a13080>"
      ]
     },
     "execution_count": 13,
     "metadata": {},
     "output_type": "execute_result"
    },
    {
     "data": {
      "image/png": "[encoded data removed]",
      "text/plain": [
       "<Figure size 432x288 with 2 Axes>"
      ]
     },
     "metadata": {
      "needs_background": "light"
     },
     "output_type": "display_data"
    }
   ],
   "source": [
    "sns.heatmap(tc,annot=True)"
   ]
  },
  {
   "cell_type": "code",
   "execution_count": 14,
   "metadata": {},
   "outputs": [
    {
     "data": {
      "text/plain": [
       "pandas.core.frame.DataFrame"
      ]
     },
     "execution_count": 14,
     "metadata": {},
     "output_type": "execute_result"
    }
   ],
   "source": [
    "type(tc)"
   ]
  },
  {
   "cell_type": "code",
   "execution_count": 15,
   "metadata": {},
   "outputs": [],
   "source": [
    "df[\"marital_status\"].fillna(\"null\", inplace = True)\n",
    "df[\"highest_qualification\"].fillna(\"null\", inplace = True)\n",
    "df[\"drinking_water_source\"].fillna(\"null\", inplace = True)\n",
    "df[\"toilet_used\"].fillna(\"null\", inplace = True)\n",
    "df[\"death_symptoms\"].fillna(\"null\", inplace = True)\n",
    "df[\"is_death_associated_with_preg\"].fillna(\"null\", inplace = True)"
   ]
  },
  {
   "cell_type": "code",
   "execution_count": 16,
   "metadata": {},
   "outputs": [],
   "source": [
    "state={'RAJASTHAN':1}\n",
    "district = {'JAIPUR':1}\n",
    "deceased_sex = {'Female':1,'Male':2}\n",
    "treatment_source={'Private Hospital':1,'Government Hospital':2,\n",
    "                  'No Medical attention':3,'Private Dispensary/Clinic':4,\n",
    "                  'Government PHC':5,'At Home':6,'Others':7,\n",
    "                  'Private AYUSH Hospital/Clinic':8,'NGO or Trust Hosp/Clinic':9,\n",
    "                  'Government CHC':10,'Government UHC/UHP/UFWC':11,\n",
    "                  'Government Sub Center':12,'Government Dispensary/Clinic':13}\n",
    "marital_status = {'Married and Gauna performed':1, 'Widow/Widower':2, 'Never married':3, 'Separated':4, 'Married but Gauna not performed':5, 'Remarried':6,\n",
    "       'Not stated':7, 'Divorced':8,'null':0}\n",
    "highest_qualification={'Literate With formal education-Post Grad/ M.Tech/M.B.A/ MD/Equivalent or higher':1,'Literate with formal education-Graduate/B.Tech/B.B.A/MBBS/Equivalent':2,'Literate With formal education-Middle':3,'Literate With formal education-Secondary/Matric (Class-X)':4,'Literate With formal education-Below primary':5,'Literate Without formal education':6,'Literate With formal education-Primary':7,'null':0,'Literate With formal education-Hr. Secondary/Sr. Secondary/Pre-university (Class XII)':8,'Illiterate':9,'Literate With formal education-Non-technical/Technical diploma or certificate not equivalent to a degree':10}\n",
    "drinking_water_source={'Piped water into dwelling/yard/plot':1,'Public tap/standpipe':2,'Tube well or Borehole':3, \n",
    "                       'Hand pump':4, 'Unprotected dug well':5,\n",
    "       'Tanker /truck/Cart with Surface watersmall tank':6, 'Surface water':7,\n",
    "       'other sources':8, 'Protected dug well':9,'null':0}\n",
    "toilet_used={'Flush/Pour flush latrine connected:-To piped sewer system':1,\n",
    "       'open defecation(field, brush,jungle etc.)':2, 'To septic tank':3,\n",
    "       'Pit latrine with slab':4, 'To pit latrine':5, 'To somewhere else':6,\n",
    "       'community toilet':7,\n",
    "       'Pit latrine(without flush/ pour flush):-Ventilated Improved Pit(VIP)':8,\n",
    "       'Open pit /Pit latrine without slab':9,'null':0}\n",
    "death_symptoms ={'Hypothermia':1, 'Fever with Jaundice':2, 'Others':3, 'Infections':4,\n",
    "       'Preterm birth/ Low birth weight baby not thriving':5,\n",
    "       'Bleeding from umbilicus & elsewhere':6,\n",
    "       'Convulsions soon after birth':7, 'Diarrhoea / Dysentery':8,\n",
    "       'Asphyxia':9, 'Fever with rash':10, 'Birth injuries':11,\n",
    "       'Respiratory Infection':12, 'Fever with convulsions':13, 'Jaundice':14,\n",
    "       'Congenital/birth defects':15,'null':0}\n",
    "is_death_associated_with_preg = {'No':2, 'null':0, '0':0, 'Yes':1}"
   ]
  },
  {
   "cell_type": "code",
   "execution_count": 17,
   "metadata": {},
   "outputs": [],
   "source": [
    "df.state = [state[item] for item in df.state]\n"
   ]
  },
  {
   "cell_type": "code",
   "execution_count": 18,
   "metadata": {},
   "outputs": [],
   "source": [
    "df.district = [district[item] for item in df.district]\n"
   ]
  },
  {
   "cell_type": "code",
   "execution_count": 19,
   "metadata": {},
   "outputs": [],
   "source": [
    "df.deceased_sex = [deceased_sex[item] for item in df.deceased_sex]\n",
    "df.treatment_source = [treatment_source[item] for item in df.treatment_source]\n",
    "df.marital_status = [marital_status[item] for item in df.marital_status]\n"
   ]
  },
  {
   "cell_type": "code",
   "execution_count": 20,
   "metadata": {},
   "outputs": [],
   "source": [
    "df.drinking_water_source = [drinking_water_source[item] for item in df.drinking_water_source]\n",
    "df.toilet_used = [toilet_used[item] for item in df.toilet_used]\n",
    "df.highest_qualification = [highest_qualification[item] for item in df.highest_qualification]\n",
    "df.death_symptoms = [death_symptoms[item] for item in df.death_symptoms]\n",
    "df.is_death_associated_with_preg = [is_death_associated_with_preg[item] for item in df.is_death_associated_with_preg]"
   ]
  },
  {
   "cell_type": "code",
   "execution_count": 21,
   "metadata": {},
   "outputs": [
    {
     "data": {
      "text/html": [
       "<div>\n",
       "<style scoped>\n",
       "    .dataframe tbody tr th:only-of-type {\n",
       "        vertical-align: middle;\n",
       "    }\n",
       "\n",
       "    .dataframe tbody tr th {\n",
       "        vertical-align: top;\n",
       "    }\n",
       "\n",
       "    .dataframe thead th {\n",
       "        text-align: right;\n",
       "    }\n",
       "</style>\n",
       "<table border=\"1\" class=\"dataframe\">\n",
       "  <thead>\n",
       "    <tr style=\"text-align: right;\">\n",
       "      <th></th>\n",
       "      <th>Unnamed: 0</th>\n",
       "      <th>state</th>\n",
       "      <th>district</th>\n",
       "      <th>deceased_sex</th>\n",
       "      <th>treatment_source</th>\n",
       "      <th>month_of_death</th>\n",
       "      <th>year_of_death</th>\n",
       "      <th>death_symptoms</th>\n",
       "      <th>is_death_associated_with_preg</th>\n",
       "      <th>marital_status</th>\n",
       "      <th>highest_qualification</th>\n",
       "      <th>drinking_water_source</th>\n",
       "      <th>toilet_used</th>\n",
       "    </tr>\n",
       "  </thead>\n",
       "  <tbody>\n",
       "    <tr>\n",
       "      <th>0</th>\n",
       "      <td>0</td>\n",
       "      <td>1</td>\n",
       "      <td>1</td>\n",
       "      <td>1</td>\n",
       "      <td>1</td>\n",
       "      <td>10</td>\n",
       "      <td>2011</td>\n",
       "      <td>0</td>\n",
       "      <td>2</td>\n",
       "      <td>1</td>\n",
       "      <td>1</td>\n",
       "      <td>1</td>\n",
       "      <td>1</td>\n",
       "    </tr>\n",
       "    <tr>\n",
       "      <th>1</th>\n",
       "      <td>1</td>\n",
       "      <td>1</td>\n",
       "      <td>1</td>\n",
       "      <td>2</td>\n",
       "      <td>1</td>\n",
       "      <td>6</td>\n",
       "      <td>2011</td>\n",
       "      <td>0</td>\n",
       "      <td>0</td>\n",
       "      <td>1</td>\n",
       "      <td>2</td>\n",
       "      <td>1</td>\n",
       "      <td>1</td>\n",
       "    </tr>\n",
       "    <tr>\n",
       "      <th>2</th>\n",
       "      <td>2</td>\n",
       "      <td>1</td>\n",
       "      <td>1</td>\n",
       "      <td>2</td>\n",
       "      <td>2</td>\n",
       "      <td>11</td>\n",
       "      <td>2011</td>\n",
       "      <td>0</td>\n",
       "      <td>0</td>\n",
       "      <td>1</td>\n",
       "      <td>3</td>\n",
       "      <td>1</td>\n",
       "      <td>1</td>\n",
       "    </tr>\n",
       "    <tr>\n",
       "      <th>3</th>\n",
       "      <td>3</td>\n",
       "      <td>1</td>\n",
       "      <td>1</td>\n",
       "      <td>1</td>\n",
       "      <td>2</td>\n",
       "      <td>3</td>\n",
       "      <td>2011</td>\n",
       "      <td>1</td>\n",
       "      <td>0</td>\n",
       "      <td>1</td>\n",
       "      <td>4</td>\n",
       "      <td>1</td>\n",
       "      <td>2</td>\n",
       "    </tr>\n",
       "    <tr>\n",
       "      <th>4</th>\n",
       "      <td>4</td>\n",
       "      <td>1</td>\n",
       "      <td>1</td>\n",
       "      <td>1</td>\n",
       "      <td>3</td>\n",
       "      <td>8</td>\n",
       "      <td>2011</td>\n",
       "      <td>0</td>\n",
       "      <td>0</td>\n",
       "      <td>1</td>\n",
       "      <td>5</td>\n",
       "      <td>2</td>\n",
       "      <td>3</td>\n",
       "    </tr>\n",
       "  </tbody>\n",
       "</table>\n",
       "</div>"
      ],
      "text/plain": [
       "   Unnamed: 0  state  district  deceased_sex  treatment_source  \\\n",
       "0           0      1         1             1                 1   \n",
       "1           1      1         1             2                 1   \n",
       "2           2      1         1             2                 2   \n",
       "3           3      1         1             1                 2   \n",
       "4           4      1         1             1                 3   \n",
       "\n",
       "   month_of_death  year_of_death  death_symptoms  \\\n",
       "0              10           2011               0   \n",
       "1               6           2011               0   \n",
       "2              11           2011               0   \n",
       "3               3           2011               1   \n",
       "4               8           2011               0   \n",
       "\n",
       "   is_death_associated_with_preg  marital_status  highest_qualification  \\\n",
       "0                              2               1                      1   \n",
       "1                              0               1                      2   \n",
       "2                              0               1                      3   \n",
       "3                              0               1                      4   \n",
       "4                              0               1                      5   \n",
       "\n",
       "   drinking_water_source  toilet_used  \n",
       "0                      1            1  \n",
       "1                      1            1  \n",
       "2                      1            1  \n",
       "3                      1            2  \n",
       "4                      2            3  "
      ]
     },
     "execution_count": 21,
     "metadata": {},
     "output_type": "execute_result"
    }
   ],
   "source": [
    "df.head()"
   ]
  },
  {
   "cell_type": "code",
   "execution_count": 22,
   "metadata": {},
   "outputs": [],
   "source": [
    "#sns.set(style=\"whitegrid\")\n",
    "#sns.barplot(x='deceased_sex',y='year_of_death',data=df)"
   ]
  },
  {
   "cell_type": "code",
   "execution_count": 23,
   "metadata": {},
   "outputs": [],
   "source": [
    "#t = df['marital_status']\n",
    "#t1=df['year_of_death'] "
   ]
  },
  {
   "cell_type": "code",
   "execution_count": 24,
   "metadata": {},
   "outputs": [],
   "source": [
    "#type(t)"
   ]
  },
  {
   "cell_type": "code",
   "execution_count": 25,
   "metadata": {},
   "outputs": [],
   "source": [
    "#colors = [\"#1f77b4\", \"#ff7f0e\"]\n",
    "#plt.pie(t,colors=colors,autopct='%1.1f%%', shadow=True, startangle=140)\n",
    "\n",
    "#plt.show()"
   ]
  },
  {
   "cell_type": "code",
   "execution_count": 26,
   "metadata": {
    "scrolled": false
   },
   "outputs": [],
   "source": [
    "#t.plot.pie(figsize=(6, 6))\n"
   ]
  },
  {
   "cell_type": "code",
   "execution_count": 27,
   "metadata": {
    "scrolled": true
   },
   "outputs": [],
   "source": [
    "#import cufflinks as cf\n",
    "#f.set_config_file(world_readable=True,offline=False)"
   ]
  },
  {
   "cell_type": "code",
   "execution_count": 28,
   "metadata": {},
   "outputs": [],
   "source": [
    "df.to_csv('data.csv')"
   ]
  },
  {
   "cell_type": "code",
   "execution_count": 29,
   "metadata": {},
   "outputs": [],
   "source": [
    "data = spark.read.format('csv').load('data.csv',inferSchema=True,header=True)"
   ]
  },
  {
   "cell_type": "code",
   "execution_count": 30,
   "metadata": {},
   "outputs": [
    {
     "data": {
      "text/plain": [
       "[Row(_c0=0, Unnamed: 0=0, state=1, district=1, deceased_sex=1, treatment_source=1, month_of_death=10, year_of_death=2011, death_symptoms=0, is_death_associated_with_preg=2, marital_status=1, highest_qualification=1, drinking_water_source=1, toilet_used=1),\n",
       " Row(_c0=1, Unnamed: 0=1, state=1, district=1, deceased_sex=2, treatment_source=1, month_of_death=6, year_of_death=2011, death_symptoms=0, is_death_associated_with_preg=0, marital_status=1, highest_qualification=2, drinking_water_source=1, toilet_used=1),\n",
       " Row(_c0=2, Unnamed: 0=2, state=1, district=1, deceased_sex=2, treatment_source=2, month_of_death=11, year_of_death=2011, death_symptoms=0, is_death_associated_with_preg=0, marital_status=1, highest_qualification=3, drinking_water_source=1, toilet_used=1),\n",
       " Row(_c0=3, Unnamed: 0=3, state=1, district=1, deceased_sex=1, treatment_source=2, month_of_death=3, year_of_death=2011, death_symptoms=1, is_death_associated_with_preg=0, marital_status=1, highest_qualification=4, drinking_water_source=1, toilet_used=2),\n",
       " Row(_c0=4, Unnamed: 0=4, state=1, district=1, deceased_sex=1, treatment_source=3, month_of_death=8, year_of_death=2011, death_symptoms=0, is_death_associated_with_preg=0, marital_status=1, highest_qualification=5, drinking_water_source=2, toilet_used=3)]"
      ]
     },
     "execution_count": 30,
     "metadata": {},
     "output_type": "execute_result"
    }
   ],
   "source": [
    "\n",
    "data.head(5)"
   ]
  },
  {
   "cell_type": "code",
   "execution_count": 31,
   "metadata": {},
   "outputs": [],
   "source": [
    "featureColumns = ['state',\n",
    " 'district',\n",
    " 'deceased_sex',\n",
    " 'treatment_source',\n",
    " 'month_of_death',\n",
    " 'death_symptoms',\n",
    " 'is_death_associated_with_preg',\n",
    " 'marital_status',\n",
    " 'highest_qualification',\n",
    " 'drinking_water_source']\n"
   ]
  },
  {
   "cell_type": "code",
   "execution_count": 32,
   "metadata": {},
   "outputs": [
    {
     "data": {
      "text/plain": [
       "pyspark.sql.dataframe.DataFrame"
      ]
     },
     "execution_count": 32,
     "metadata": {},
     "output_type": "execute_result"
    }
   ],
   "source": [
    "type(data)"
   ]
  },
  {
   "cell_type": "code",
   "execution_count": 33,
   "metadata": {},
   "outputs": [],
   "source": [
    "train_data,test_data =data.randomSplit([0.7,0.3])"
   ]
  },
  {
   "cell_type": "code",
   "execution_count": 34,
   "metadata": {},
   "outputs": [],
   "source": [
    "from pyspark.ml.classification import DecisionTreeClassifier\n",
    "from pyspark.ml.feature import VectorIndexer,VectorAssembler\n",
    "from pyspark.ml.evaluation import MulticlassClassificationEvaluator"
   ]
  },
  {
   "cell_type": "code",
   "execution_count": 47,
   "metadata": {},
   "outputs": [],
   "source": [
    "from pyspark.ml.regression import DecisionTreeRegressor\n",
    "from pyspark.ml import Pipeline"
   ]
  },
  {
   "cell_type": "code",
   "execution_count": 36,
   "metadata": {},
   "outputs": [],
   "source": [
    "assembler = VectorAssembler(inputCols=featureColumns,outputCol=\"features\")"
   ]
  },
  {
   "cell_type": "code",
   "execution_count": 37,
   "metadata": {},
   "outputs": [],
   "source": [
    "assembled = assembler.transform(data)"
   ]
  },
  {
   "cell_type": "code",
   "execution_count": 38,
   "metadata": {},
   "outputs": [
    {
     "name": "stdout",
     "output_type": "stream",
     "text": [
      "root\n",
      " |-- _c0: integer (nullable = true)\n",
      " |-- Unnamed: 0: integer (nullable = true)\n",
      " |-- state: integer (nullable = true)\n",
      " |-- district: integer (nullable = true)\n",
      " |-- deceased_sex: integer (nullable = true)\n",
      " |-- treatment_source: integer (nullable = true)\n",
      " |-- month_of_death: integer (nullable = true)\n",
      " |-- year_of_death: integer (nullable = true)\n",
      " |-- death_symptoms: integer (nullable = true)\n",
      " |-- is_death_associated_with_preg: integer (nullable = true)\n",
      " |-- marital_status: integer (nullable = true)\n",
      " |-- highest_qualification: integer (nullable = true)\n",
      " |-- drinking_water_source: integer (nullable = true)\n",
      " |-- toilet_used: integer (nullable = true)\n",
      " |-- features: vector (nullable = true)\n",
      "\n"
     ]
    }
   ],
   "source": [
    "assembled.printSchema()"
   ]
  },
  {
   "cell_type": "code",
   "execution_count": 39,
   "metadata": {},
   "outputs": [
    {
     "data": {
      "text/plain": [
       "Row(_c0=0, Unnamed: 0=0, state=1, district=1, deceased_sex=1, treatment_source=1, month_of_death=10, year_of_death=2011, death_symptoms=0, is_death_associated_with_preg=2, marital_status=1, highest_qualification=1, drinking_water_source=1, toilet_used=1, features=DenseVector([1.0, 1.0, 1.0, 1.0, 10.0, 0.0, 2.0, 1.0, 1.0, 1.0]))"
      ]
     },
     "execution_count": 39,
     "metadata": {},
     "output_type": "execute_result"
    }
   ],
   "source": [
    "assembled.head()"
   ]
  },
  {
   "cell_type": "code",
   "execution_count": 40,
   "metadata": {},
   "outputs": [],
   "source": [
    "(trainingData,testData) = assembled.randomSplit([0.8,0.2],seed = 13234)"
   ]
  },
  {
   "cell_type": "code",
   "execution_count": 54,
   "metadata": {},
   "outputs": [
    {
     "data": {
      "text/plain": [
       "(1474, 396)"
      ]
     },
     "execution_count": 54,
     "metadata": {},
     "output_type": "execute_result"
    }
   ],
   "source": [
    "trainingData.count(),testData.count()"
   ]
  },
  {
   "cell_type": "code",
   "execution_count": 55,
   "metadata": {},
   "outputs": [
    {
     "data": {
      "text/plain": [
       "['_c0',\n",
       " 'Unnamed: 0',\n",
       " 'state',\n",
       " 'district',\n",
       " 'deceased_sex',\n",
       " 'treatment_source',\n",
       " 'month_of_death',\n",
       " 'year_of_death',\n",
       " 'death_symptoms',\n",
       " 'is_death_associated_with_preg',\n",
       " 'marital_status',\n",
       " 'highest_qualification',\n",
       " 'drinking_water_source',\n",
       " 'toilet_used',\n",
       " 'features']"
      ]
     },
     "execution_count": 55,
     "metadata": {},
     "output_type": "execute_result"
    }
   ],
   "source": [
    "trainingData.columns"
   ]
  },
  {
   "cell_type": "code",
   "execution_count": 42,
   "metadata": {},
   "outputs": [],
   "source": [
    "dt = DecisionTreeClassifier(labelCol=\"\",featuresCol=\"features\",maxDepth=5,minInstancesPerNode=20,impurity=\"gini\")"
   ]
  },
  {
   "cell_type": "code",
   "execution_count": 52,
   "metadata": {},
   "outputs": [],
   "source": [
    "dt = DecisionTreeRegressor(labelCol=\"year_of_death\",featuresCol=\"features\",maxDepth=5,minInstancesPerNode=20)"
   ]
  },
  {
   "cell_type": "code",
   "execution_count": 56,
   "metadata": {},
   "outputs": [],
   "source": [
    "pipeline = Pipeline(stages=[dt])\n",
    "model = pipeline.fit(trainingData)"
   ]
  },
  {
   "cell_type": "code",
   "execution_count": 57,
   "metadata": {},
   "outputs": [],
   "source": [
    "predictions = model.transform(testData)"
   ]
  },
  {
   "cell_type": "code",
   "execution_count": 62,
   "metadata": {},
   "outputs": [
    {
     "data": {
      "text/plain": [
       "[Row(year_of_death=2011, prediction=2008.8796068796069),\n",
       " Row(year_of_death=2007, prediction=2008.8796068796069),\n",
       " Row(year_of_death=2009, prediction=2008.8796068796069),\n",
       " Row(year_of_death=2009, prediction=2008.5652173913043),\n",
       " Row(year_of_death=2008, prediction=2009.249027237354),\n",
       " Row(year_of_death=2008, prediction=2008.5652173913043),\n",
       " Row(year_of_death=2009, prediction=2008.5652173913043),\n",
       " Row(year_of_death=2009, prediction=2008.8796068796069),\n",
       " Row(year_of_death=2009, prediction=2008.5652173913043),\n",
       " Row(year_of_death=2009, prediction=2008.8796068796069),\n",
       " Row(year_of_death=2009, prediction=2008.8796068796069),\n",
       " Row(year_of_death=2007, prediction=2008.5652173913043),\n",
       " Row(year_of_death=2009, prediction=2008.8796068796069),\n",
       " Row(year_of_death=2007, prediction=2008.8796068796069),\n",
       " Row(year_of_death=2009, prediction=2008.5652173913043),\n",
       " Row(year_of_death=2008, prediction=2008.5652173913043),\n",
       " Row(year_of_death=2009, prediction=2008.8796068796069),\n",
       " Row(year_of_death=2008, prediction=2008.8796068796069),\n",
       " Row(year_of_death=2009, prediction=2008.8796068796069),\n",
       " Row(year_of_death=2008, prediction=2008.5652173913043),\n",
       " Row(year_of_death=2009, prediction=2008.5652173913043),\n",
       " Row(year_of_death=2009, prediction=2008.5652173913043),\n",
       " Row(year_of_death=2008, prediction=2009.249027237354),\n",
       " Row(year_of_death=2011, prediction=2009.249027237354),\n",
       " Row(year_of_death=2009, prediction=2009.249027237354)]"
      ]
     },
     "execution_count": 62,
     "metadata": {},
     "output_type": "execute_result"
    }
   ],
   "source": [
    "predictions.select(\"year_of_death\",\"prediction\").head(25)"
   ]
  },
  {
   "cell_type": "code",
   "execution_count": null,
   "metadata": {},
   "outputs": [],
   "source": []
  }
 ],
 "metadata": {
  "kernelspec": {
   "display_name": "Python 3",
   "language": "python",
   "name": "python3"
  },
  "language_info": {
   "codemirror_mode": {
    "name": "ipython",
    "version": 3
   },
   "file_extension": ".py",
   "mimetype": "text/x-python",
   "name": "python",
   "nbconvert_exporter": "python",
   "pygments_lexer": "ipython3",
   "version": "3.6.8"
  }
 },
 "nbformat": 4,
 "nbformat_minor": 2
}
